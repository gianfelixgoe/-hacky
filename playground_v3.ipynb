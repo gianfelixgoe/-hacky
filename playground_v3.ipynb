{
 "cells": [
  {
   "cell_type": "code",
   "execution_count": 1,
   "metadata": {},
   "outputs": [],
   "source": [
    "import requests\n",
    "from textblob import TextBlob"
   ]
  },
  {
   "cell_type": "code",
   "execution_count": 2,
   "metadata": {},
   "outputs": [],
   "source": [
    "good_news_url = ('http://newsapi.org/v2/everything?'\n",
    "                 'q=Good News&'\n",
    "                 'from=2020-07-18&'\n",
    "                 'pageSize=100&'\n",
    "                 'sortBy=popularity&'\n",
    "                 'apiKey=7cbc46d369ec49efba7d4e1bd3df8b1a')\n",
    "\n",
    "good_news_response = requests.get(good_news_url)"
   ]
  },
  {
   "cell_type": "code",
   "execution_count": 3,
   "metadata": {},
   "outputs": [],
   "source": [
    "def print_seperate_scores(response, num):\n",
    "    i = 0\n",
    "    max_score = 0\n",
    "    str_save = \"\"\n",
    "    while i < len(response.json()['articles']):\n",
    "        \n",
    "        article_dict = response.json()['articles'][i]\n",
    "        text_to_be_analysed = article_dict['title']\n",
    "        blob = TextBlob(text_to_be_analysed)\n",
    "        score_title = blob.sentiment.polarity\n",
    "        if (article_dict['description'] != None):\n",
    "            text_to_be_analysed = text_to_be_analysed+ \". \" + article_dict['description']\n",
    "            blob = TextBlob(article_dict['description'])\n",
    "            score_desc = blob.sentiment.polarity\n",
    "        if (article_dict['content'] != None):\n",
    "            text_to_be_analysed = text_to_be_analysed+ \". \" + article_dict['content']\n",
    "            blob = TextBlob(article_dict['content'])\n",
    "            score_content = blob.sentiment.polarity\n",
    "        blob = TextBlob(text_to_be_analysed)\n",
    "        score_all = blob.sentiment.polarity\n",
    "\n",
    "\n",
    "        if score_all >= num or score_title >= num or score_desc >= num or score_content >= num:\n",
    "            #print(article_dict)\n",
    "            print(\"\")\n",
    "            \n",
    "            \n",
    "            print(\"Score (All): \" + str(score_all))\n",
    "            print(\"\")\n",
    "            print(\"Text (title): \"+ article_dict['title'])\n",
    "            print(\"Score (title): \" + str(score_title))\n",
    "            if (article_dict['description'] != None):\n",
    "                print(\"\")\n",
    "                print(\"Text (desc): \"+ article_dict['description'])\n",
    "                print(\"Score (desc): \" + str(score_desc))\n",
    "            if (article_dict['content'] != None):\n",
    "                print(\"\")\n",
    "                print(\"Text (content): \"+ article_dict['content'])\n",
    "                print(\"Score (content): \" + str(score_content))\n",
    "            print(\"\")\n",
    "        i += 1"
   ]
  },
  {
   "cell_type": "code",
   "execution_count": 14,
   "metadata": {},
   "outputs": [],
   "source": [
    "def add_scores_to_array(array):\n",
    "    i = 0\n",
    "    return_array = array[:]\n",
    "    while (i < len(return_array)):\n",
    "        article_dict = return_array[i]\n",
    "        text_to_be_analysed = article_dict['title']\n",
    "\n",
    "        blob = TextBlob(article_dict['title'])\n",
    "        score_title = blob.sentiment.polarity\n",
    "        article_dict['titleScore'] = score_title\n",
    "\n",
    "        if (article_dict['description'] != None):\n",
    "            blob = TextBlob(article_dict['description'])\n",
    "            text_to_be_analysed = text_to_be_analysed+ \". \" + article_dict['description']\n",
    "            score_desc = blob.sentiment.polarity\n",
    "            article_dict['descriptionScore'] = score_desc\n",
    "        else:\n",
    "            score_desc = 0\n",
    "            article_dict['descriptionScore'] = 0\n",
    "\n",
    "        if (article_dict['content'] != None):\n",
    "            text_to_be_analysed = text_to_be_analysed+ \". \" + article_dict['content']\n",
    "            blob = TextBlob(article_dict['content'])\n",
    "            score_content = blob.sentiment.polarity\n",
    "            article_dict['contentScore'] = score_content\n",
    "        else:\n",
    "            score_content = 0\n",
    "            article_dict['contentScore'] = 0\n",
    "        blob = TextBlob(text_to_be_analysed)\n",
    "        score_all = blob.sentiment.polarity\n",
    "        article_dict['allScore'] = score_all \n",
    "        i += 1\n",
    "    return return_array"
   ]
  },
  {
   "cell_type": "code",
   "execution_count": 16,
   "metadata": {},
   "outputs": [],
   "source": [
    "import pandas as pd"
   ]
  },
  {
   "cell_type": "code",
   "execution_count": 71,
   "metadata": {},
   "outputs": [
    {
     "output_type": "execute_result",
     "data": {
      "text/plain": "                                        source  \\\n31         {'id': None, 'name': 'Motley Fool'}   \n32         {'id': None, 'name': 'Motley Fool'}   \n45  {'id': None, 'name': 'The Indian Express'}   \n\n                                     author  \\\n31   newsfeedback@fool.com (Christy Bieber)   \n32  newsfeedback@fool.com (David Jagielski)   \n45                           Lifestyle Desk   \n\n                                                title  \\\n31  3 Key Signs More Stimulus Money Is on the Way ...   \n32                 Better Buy: Rite Aid vs. Walgreens   \n45  Happy Sawan Shivratri 2020: Wishes, images, st...   \n\n                                          description  \\\n31  There's good news for those hoping for more st...   \n32  Given the economic and market conditions cause...   \n45  Happy Sawan Shivratri 2020 Wishes Images, Quot...   \n\n                                                  url  \\\n31  https://www.fool.com/investing/2020/07/18/3-ke...   \n32  https://www.fool.com/investing/2020/07/18/bett...   \n45  https://indianexpress.com/article/lifestyle/li...   \n\n                                           urlToImage           publishedAt  \\\n31  https://g.foolcdn.com/editorial/images/581129/...  2020-07-18T10:33:00Z   \n32  https://g.foolcdn.com/editorial/images/582641/...  2020-07-18T11:55:00Z   \n45  https://images.indianexpress.com/2020/07/Sawan...  2020-07-18T14:30:33Z   \n\n                                              content  titleScore  \\\n31  The IRS has sent out more than $269 billion in...    0.066667   \n32  Investing in pharmacy retailers is a relativel...    0.500000   \n45  Happy Sawan Shivratri 2020 Wishes Images: Happ...    0.800000   \n\n    descriptionScore  contentScore  allScore  \n31            0.6625      0.500000  0.360714  \n32            0.2000      0.281481  0.308889  \n45            0.6500      0.800000  0.740000  ",
      "text/html": "<div>\n<style scoped>\n    .dataframe tbody tr th:only-of-type {\n        vertical-align: middle;\n    }\n\n    .dataframe tbody tr th {\n        vertical-align: top;\n    }\n\n    .dataframe thead th {\n        text-align: right;\n    }\n</style>\n<table border=\"1\" class=\"dataframe\">\n  <thead>\n    <tr style=\"text-align: right;\">\n      <th></th>\n      <th>source</th>\n      <th>author</th>\n      <th>title</th>\n      <th>description</th>\n      <th>url</th>\n      <th>urlToImage</th>\n      <th>publishedAt</th>\n      <th>content</th>\n      <th>titleScore</th>\n      <th>descriptionScore</th>\n      <th>contentScore</th>\n      <th>allScore</th>\n    </tr>\n  </thead>\n  <tbody>\n    <tr>\n      <th>31</th>\n      <td>{'id': None, 'name': 'Motley Fool'}</td>\n      <td>newsfeedback@fool.com (Christy Bieber)</td>\n      <td>3 Key Signs More Stimulus Money Is on the Way ...</td>\n      <td>There's good news for those hoping for more st...</td>\n      <td>https://www.fool.com/investing/2020/07/18/3-ke...</td>\n      <td>https://g.foolcdn.com/editorial/images/581129/...</td>\n      <td>2020-07-18T10:33:00Z</td>\n      <td>The IRS has sent out more than $269 billion in...</td>\n      <td>0.066667</td>\n      <td>0.6625</td>\n      <td>0.500000</td>\n      <td>0.360714</td>\n    </tr>\n    <tr>\n      <th>32</th>\n      <td>{'id': None, 'name': 'Motley Fool'}</td>\n      <td>newsfeedback@fool.com (David Jagielski)</td>\n      <td>Better Buy: Rite Aid vs. Walgreens</td>\n      <td>Given the economic and market conditions cause...</td>\n      <td>https://www.fool.com/investing/2020/07/18/bett...</td>\n      <td>https://g.foolcdn.com/editorial/images/582641/...</td>\n      <td>2020-07-18T11:55:00Z</td>\n      <td>Investing in pharmacy retailers is a relativel...</td>\n      <td>0.500000</td>\n      <td>0.2000</td>\n      <td>0.281481</td>\n      <td>0.308889</td>\n    </tr>\n    <tr>\n      <th>45</th>\n      <td>{'id': None, 'name': 'The Indian Express'}</td>\n      <td>Lifestyle Desk</td>\n      <td>Happy Sawan Shivratri 2020: Wishes, images, st...</td>\n      <td>Happy Sawan Shivratri 2020 Wishes Images, Quot...</td>\n      <td>https://indianexpress.com/article/lifestyle/li...</td>\n      <td>https://images.indianexpress.com/2020/07/Sawan...</td>\n      <td>2020-07-18T14:30:33Z</td>\n      <td>Happy Sawan Shivratri 2020 Wishes Images: Happ...</td>\n      <td>0.800000</td>\n      <td>0.6500</td>\n      <td>0.800000</td>\n      <td>0.740000</td>\n    </tr>\n  </tbody>\n</table>\n</div>"
     },
     "metadata": {},
     "execution_count": 71
    }
   ],
   "source": [
    "array_good_news = add_scores_to_array(good_news_response.json()['articles'])\n",
    "df = pd.DataFrame(array_good_news)\n",
    "df1 = df[(df['descriptionScore'] >= 0.5) | (df['titleScore'] >= 0.5) | (df['contentScore'] >= 0.5) | (df['allScore'] >= 0.5)]\n",
    "\n",
    "df2 = df1[((df1['descriptionScore'] >= 0.01) | (df1['description'].isnull())) & ((df1['titleScore'] >= 0.01)| (df1['title'].isnull())) & ((df1['contentScore'] >= 0.01)| (df1['content'].isnull())) & (df1['allScore'] >= 0.2)]\n",
    "df2"
   ]
  },
  {
   "cell_type": "code",
   "execution_count": 34,
   "metadata": {},
   "outputs": [],
   "source": [
    "top_good_url = ('http://newsapi.org/v2/top-headlines?'\n",
    "                 'q=Good News&'\n",
    "                 'from=2020-07-18&'\n",
    "                 'pageSize=100&'\n",
    "                 'sortBy=popularity&'\n",
    "                 'apiKey=7cbc46d369ec49efba7d4e1bd3df8b1a')\n",
    "\n",
    "top_good_response = requests.get(top_good_url)"
   ]
  },
  {
   "cell_type": "code",
   "execution_count": 37,
   "metadata": {},
   "outputs": [],
   "source": [
    "# Reason for abandonment: not enough result to decide how positive it is"
   ]
  },
  {
   "cell_type": "code",
   "execution_count": 38,
   "metadata": {},
   "outputs": [
    {
     "output_type": "execute_result",
     "data": {
      "text/plain": "{'status': 'ok',\n 'totalResults': 2,\n 'articles': [{'source': {'id': 'the-times-of-india',\n    'name': 'The Times of India'},\n   'author': 'AFP',\n   'title': 'US congressman John Lewis, civil rights icon, dead at 80',\n   'description': 'US News: John Lewis, the civil rights warrior who died Friday aged 80, excelled at what he liked to call \"good trouble\" -- standing up against racial injustice',\n   'url': 'http://timesofindia.indiatimes.com/world/us/us-congressman-john-lewis-civil-rights-icon-dead-at-80/articleshow/77040449.cms',\n   'urlToImage': 'https://static.toiimg.com/thumb/msid-77040526,width-1070,height-580,imgsize-47205,resizemode-75,overlay-toi_sw,pt-32,y_pad-40/photo.jpg',\n   'publishedAt': '2020-07-18T09:20:00Z',\n   'content': None},\n  {'source': {'id': 'fortune', 'name': 'Fortune'},\n   'author': 'Jennifer Hoewe, Brett Sherrick',\n   'title': 'Are you willing to pay for news? The future of journalism may depend on it',\n   'description': \"Commentary: American journalism in crisis. The public needs to pay for good reporting if there's any hope to save the news media.\",\n   'url': 'https://fortune.com/2020/07/16/american-journalism-crisis-save-news-media/',\n   'urlToImage': 'https://content.fortune.com/wp-content/uploads/2020/07/Future-of-Journalism-NYTimes-Subsciprtion-GettyImages-1202342874.jpg?resize=1200,600',\n   'publishedAt': '2020-07-16T18:02:30Z',\n   'content': None}]}"
     },
     "metadata": {},
     "execution_count": 38
    }
   ],
   "source": [
    "top_good_response.json()"
   ]
  },
  {
   "cell_type": "code",
   "execution_count": 39,
   "metadata": {},
   "outputs": [],
   "source": [
    "good_url = ('http://newsapi.org/v2/top-headlines?'\n",
    "                 'q=Good&'\n",
    "                 'from=2020-07-18&'\n",
    "                 'pageSize=100&'\n",
    "                 'sortBy=popularity&'\n",
    "                 'apiKey=7cbc46d369ec49efba7d4e1bd3df8b1a')\n",
    "good_response = requests.get(good_url)"
   ]
  },
  {
   "cell_type": "code",
   "execution_count": 40,
   "metadata": {},
   "outputs": [
    {
     "output_type": "execute_result",
     "data": {
      "text/plain": "{'status': 'ok',\n 'totalResults': 11,\n 'articles': [{'source': {'id': 'reddit-r-all', 'name': 'Reddit /r/all'},\n   'author': None,\n   'title': 'Good parenting',\n   'description': None,\n   'url': 'https://i.redd.it/io6wk5sgulb51.jpg',\n   'urlToImage': None,\n   'publishedAt': '2020-07-18T14:07:29.2558911Z',\n   'content': None},\n  {'source': {'id': 'usa-today', 'name': 'USA Today'},\n   'author': None,\n   'title': \"'Get in good trouble, necessary trouble': Rep. John R. Lewis in his own words\",\n   'description': 'Devoting his life to racial justice and equity, Rep. John R. Lewis was an unmatched orator. Here are some of his most memorable quotes.',\n   'url': 'https://www.usatoday.com/story/news/politics/2020/07/18/rep-john-lewis-most-memorable-quotes-get-good-trouble/5464148002/',\n   'urlToImage': 'https://www.gannett-cdn.com/presto/2020/07/13/USAT/2ab2f4d5-eb2e-4a60-b48e-9c07db86684f-VPC_OBIT_JOHN_LEWIS_AP.jpg?crop=1911,1075,x0,y0&width=1600&height=800&fit=bounds',\n   'publishedAt': '2020-07-18T11:48:00+00:00',\n   'content': 'Arrested, jailed and beaten for challenging Jim Crow laws, Lewis became a national figure in his early 20s.\\r\\nUSA TODAY\\r\\nCivil rights icon Rep. John R. Lewis, who devoted his life to\\xa0racial justice an… [+2438 chars]'},\n  {'source': {'id': 'the-times-of-india', 'name': 'The Times of India'},\n   'author': 'AFP',\n   'title': 'US congressman John Lewis, civil rights icon, dead at 80',\n   'description': 'US News: John Lewis, the civil rights warrior who died Friday aged 80, excelled at what he liked to call \"good trouble\" -- standing up against racial injustice',\n   'url': 'http://timesofindia.indiatimes.com/world/us/us-congressman-john-lewis-civil-rights-icon-dead-at-80/articleshow/77040449.cms',\n   'urlToImage': 'https://static.toiimg.com/thumb/msid-77040526,width-1070,height-580,imgsize-47205,resizemode-75,overlay-toi_sw,pt-32,y_pad-40/photo.jpg',\n   'publishedAt': '2020-07-18T09:20:00Z',\n   'content': None},\n  {'source': {'id': 'abc-news', 'name': 'ABC News'},\n   'author': 'Karma Allen',\n   'title': 'Touching video shows 90-year-old man saying final goodbyes to wife with COVID-19',\n   'description': '',\n   'url': 'https://abcnews.go.com/US/touching-video-shows-90-year-man-final-goodbyes/story?id=71852607',\n   'urlToImage': 'https://s.abcnews.com/images/US/covid-02-as-ht-200717_1595021028054_hpMain_16x9_992.jpg',\n   'publishedAt': '2020-07-18T01:18:37Z',\n   'content': 'Tears filled the room when a 90-year-old Florida man arrived at a nursing home in full protective gear to say his final goodbyes to his wife before she died of COVID-19.\\r\\nSam Reck, of Lakeland, Flori… [+1475 chars]'},\n  {'source': {'id': 'engadget', 'name': 'Engadget'},\n   'author': '',\n   'title': 'The best deals we found this week: 16-inch MacBook Pro, Fitbit and more',\n   'description': 'This week, anyone looking for a deal on an Apple laptop or Amazon’s Echo devices should check this roundup out.  Both the 16-inch MacBook Pro and the MacBook Air are on sale — not quite as cheap as they were earlier in the week, but still two good deals.  On …',\n   'url': 'https://www.engadget.com/weekly-deals-apple-macbook-pro-air-fitbit-amazon-echo-184509971.html?utm_campaign=homepage&amp;utm_medium=internal&amp;utm_source=dl',\n   'urlToImage': 'https://o.aolcdn.com/images/dims?resize=1200%2C630&crop=1200%2C630%2C0%2C0&quality=95&image_uri=https%3A%2F%2Fs.yimg.com%2Fos%2Fcreatr-uploaded-images%2F2020-07%2F64f61300-c508-11ea-bdbe-4c1e4120ac72&client=amp-blogside-v2&signature=30a40e66c3f752b61d547f7396aa6ff6dda7842f',\n   'publishedAt': '2020-07-17T20:07:25.351283Z',\n   'content': 'Shop Fitbit’s summer sale\\r\\nBuy Inspire HR at Amazon - $70\\r\\nBuy Charge 4 at Amazon - $130\\r\\nBuy Versa Lite at Amazon - $100\\r\\nApple MacBook Pro (16-inch)\\r\\nApple’s 16-inch MacBook Pro is $300 off at Amaz… [+5116 chars]'},\n  {'source': {'id': 'independent', 'name': 'Independent'},\n   'author': 'Chris Blackhurst',\n   'title': 'The problem with business dynasties is that the kids aren’t usually as good as the parents',\n   'description': 'And the TV show Succession, based on Murdoch,\\xa0is giving us a glimpse into the\\xa0real-life world of unfolding high-stakes drama, writes Chris Blackhurst',\n   'url': 'http://www.independent.co.uk/independentpremium/business/business-dynasty-murdoch-littlewoods-barclays-succession-a9624471.html',\n   'urlToImage': 'https://static.independent.co.uk/s3fs-public/thumbnails/image/2020/07/17/12/rupert-murdoch-blackhurst.jpg',\n   'publishedAt': '2020-07-17T18:17:25Z',\n   'content': 'A recurring high-stakes business theme at present is families and their ability to get on, and the safeguarding of fortunes by future generations.\\r\\nTry as they might, even the sharpest commercial bra… [+864 chars]'},\n  {'source': {'id': 'fortune', 'name': 'Fortune'},\n   'author': 'Jennifer Hoewe, Brett Sherrick',\n   'title': 'Are you willing to pay for news? The future of journalism may depend on it',\n   'description': \"Commentary: American journalism in crisis. The public needs to pay for good reporting if there's any hope to save the news media.\",\n   'url': 'https://fortune.com/2020/07/16/american-journalism-crisis-save-news-media/',\n   'urlToImage': 'https://content.fortune.com/wp-content/uploads/2020/07/Future-of-Journalism-NYTimes-Subsciprtion-GettyImages-1202342874.jpg?resize=1200,600',\n   'publishedAt': '2020-07-16T18:02:30Z',\n   'content': None},\n  {'source': {'id': 'usa-today', 'name': 'USA Today'},\n   'author': None,\n   'title': \"Athletes, coaches and broadcasters are Changing the Game, and that's good for all women\",\n   'description': 'New podcast from USA TODAY Sports looks at how female athletes, coaches and broadcasters have changed the way society views women.',\n   'url': 'https://www.usatoday.com/story/sports/columnist/nancy-armour/2020/07/06/new-podcast-explores-how-women-sports-changing-game/5387269002/',\n   'urlToImage': 'https://www.gannett-cdn.com/presto/2020/07/06/USAT/a0241ca2-9cbb-4dcb-b19f-c5069a5eb4c3-AFP_AFP_EQ71E.JPG?crop=5321,2993,x0,y396&width=3200&height=1680&fit=bounds',\n   'publishedAt': '2020-06-23T13:50:50+00:00',\n   'content': 'Sports are more than just fun and games. They’re a means for change.\\r\\nIt’s been nearly 50 years since Title IX was passed in the United States, opening gymnasiums and playing fields to girls and wome… [+1860 chars]'},\n  {'source': {'id': 'nfl-news', 'name': 'NFL News'},\n   'author': 'Grant Gordon',\n   'title': \"Meyer: Haskins needs 'great players,' 'elite culture'\",\n   'description': 'Urban Meyer believes criticism of Dwayne Haskins is unwarranted and that what the young QB really needs is good leadership and great players around him.',\n   'url': 'http://www.nfl.com/news/story/0ap3000001113584/article/meyer-haskins-needs-great-players-elite-culture',\n   'urlToImage': 'http://static.nfl.com/static/content/public/photo/2020/05/12/0ap3000001113581_thumbnail_200_150.jpg',\n   'publishedAt': '2020-05-12T21:03:00Z',\n   'content': None},\n  {'source': {'id': 'national-review', 'name': 'National Review'},\n   'author': 'Kyle Smith',\n   'title': 'Why Al Pacino Matters',\n   'description': 'Over the decades, through movies bad and good, he always makes the most of his part.',\n   'url': 'https://www.nationalreview.com/2019/11/al-pacino-actor-makes-most-of-his-part/',\n   'urlToImage': 'https://i0.wp.com/www.nationalreview.com/wp-content/uploads/2019/11/al-pacino-the-irishman.jpg?fit=1200%2C700&ssl=1',\n   'publishedAt': '2019-11-29T11:30:07Z',\n   'content': 'Al Pacino (front) with Robert De Niro and Ray Romano in The Irishman(Netflix)\\r\\nOver the decades, through movies bad and good, he always makes the most of his part.A\\xa0\\xa0lot of movie stars are on the sho… [+6288 chars]'},\n  {'source': {'id': 'the-american-conservative',\n    'name': 'The American Conservative'},\n   'author': None,\n   'title': 'When ‘Sexist’ (and Desperate) Democrats Bully Warren',\n   'description': 'It may not be a good idea for the male front runners to pile on the one woman front runner for the nomination.',\n   'url': 'https://www.theamericanconservative.com/buchanan/when-sexist-and-desperate-democrats-bully-warren/',\n   'urlToImage': 'https://www.theamericanconservative.com/wp-content/uploads/2019/03/Warren.jpg',\n   'publishedAt': '2019-11-08T02:23:30.7062001Z',\n   'content': 'After celebrating Tuesday’s takeover of Virginia’s legislature and the Kentucky governorship, the liberal establishment appears poised to crush its biggest threat: the surging candidacy of Elizabeth … [+5062 chars]'}]}"
     },
     "metadata": {},
     "execution_count": 40
    }
   ],
   "source": [
    "good_response.json()"
   ]
  },
  {
   "cell_type": "code",
   "execution_count": 41,
   "metadata": {},
   "outputs": [],
   "source": [
    "#lesson learned: don't use query in top headlines"
   ]
  },
  {
   "cell_type": "code",
   "execution_count": 42,
   "metadata": {},
   "outputs": [],
   "source": [
    "us_url = ('http://newsapi.org/v2/top-headlines?'\n",
    "                 'country=us&'\n",
    "                 'from=2020-07-18&'\n",
    "                 'pageSize=100&'\n",
    "                 'sortBy=popularity&'\n",
    "                 'apiKey=7cbc46d369ec49efba7d4e1bd3df8b1a')\n",
    "us_response = requests.get(us_url)"
   ]
  },
  {
   "cell_type": "code",
   "execution_count": 50,
   "metadata": {},
   "outputs": [
    {
     "output_type": "execute_result",
     "data": {
      "text/plain": "                                          source  \\\n25  {'id': 'google-news', 'name': 'Google News'}   \n32               {'id': None, 'name': 'PCWorld'}   \n34  {'id': None, 'name': 'Digital Camera World'}   \n36        {'id': 'the-hill', 'name': 'The Hill'}   \n\n                              author  \\\n25                              None   \n32                                     \n34                      Chris George   \n36  Olivia Beavers and Maggie Miller   \n\n                                                title  \\\n25  Pentagon Effectively Bans Confederate Flag | N...   \n32  AMD inside: Lenovo's latest Legion gaming lapt...   \n34  How to photograph Comet Neowise this weekend (...   \n36  Russian hackers return to spotlight with vacci...   \n\n                                          description  \\\n25                                               None   \n32  Need more proof that Ryzen CPUs are on a roll?...   \n34  Don't miss the opportunity to see this new com...   \n36  Russia is facing renewed scrutiny for its cybe...   \n\n                                                  url  \\\n25  https://news.google.com/__i/rss/rd/articles/CB...   \n32  https://www.pcworld.com/article/3567470/amd-in...   \n34  https://www.digitalcameraworld.com/uk/news/how...   \n36  https://thehill.com/policy/national-security/5...   \n\n                                           urlToImage           publishedAt  \\\n25                                               None  2020-07-17T23:48:13Z   \n32  https://images.idgesg.net/images/article/2020/...  2020-07-17T18:27:00Z   \n34  https://cdn.mos.cms.futurecdn.net/Dmyk6VoAH8PJ...  2020-07-17T13:07:00Z   \n36  https://thehill.com/sites/default/files/010819...  2020-07-17T09:31:21Z   \n\n                                              content  titleScore  \\\n25                                               None        0.60   \n32  If you need yet more proof that AMDs modern Ry...        0.50   \n34  Pictures of the amazing Comet Neowise have sta...       -0.15   \n36  Russia is facing renewed scrutiny for its cybe...        0.00   \n\n    descriptionScore  contentScore  allScore  \n25          0.000000      0.000000  0.600000  \n32          0.318182      0.300000  0.333766  \n34          0.170455      0.506667  0.300473  \n36          0.800000      0.350000  0.375000  ",
      "text/html": "<div>\n<style scoped>\n    .dataframe tbody tr th:only-of-type {\n        vertical-align: middle;\n    }\n\n    .dataframe tbody tr th {\n        vertical-align: top;\n    }\n\n    .dataframe thead th {\n        text-align: right;\n    }\n</style>\n<table border=\"1\" class=\"dataframe\">\n  <thead>\n    <tr style=\"text-align: right;\">\n      <th></th>\n      <th>source</th>\n      <th>author</th>\n      <th>title</th>\n      <th>description</th>\n      <th>url</th>\n      <th>urlToImage</th>\n      <th>publishedAt</th>\n      <th>content</th>\n      <th>titleScore</th>\n      <th>descriptionScore</th>\n      <th>contentScore</th>\n      <th>allScore</th>\n    </tr>\n  </thead>\n  <tbody>\n    <tr>\n      <th>25</th>\n      <td>{'id': 'google-news', 'name': 'Google News'}</td>\n      <td>None</td>\n      <td>Pentagon Effectively Bans Confederate Flag | N...</td>\n      <td>None</td>\n      <td>https://news.google.com/__i/rss/rd/articles/CB...</td>\n      <td>None</td>\n      <td>2020-07-17T23:48:13Z</td>\n      <td>None</td>\n      <td>0.60</td>\n      <td>0.000000</td>\n      <td>0.000000</td>\n      <td>0.600000</td>\n    </tr>\n    <tr>\n      <th>32</th>\n      <td>{'id': None, 'name': 'PCWorld'}</td>\n      <td></td>\n      <td>AMD inside: Lenovo's latest Legion gaming lapt...</td>\n      <td>Need more proof that Ryzen CPUs are on a roll?...</td>\n      <td>https://www.pcworld.com/article/3567470/amd-in...</td>\n      <td>https://images.idgesg.net/images/article/2020/...</td>\n      <td>2020-07-17T18:27:00Z</td>\n      <td>If you need yet more proof that AMDs modern Ry...</td>\n      <td>0.50</td>\n      <td>0.318182</td>\n      <td>0.300000</td>\n      <td>0.333766</td>\n    </tr>\n    <tr>\n      <th>34</th>\n      <td>{'id': None, 'name': 'Digital Camera World'}</td>\n      <td>Chris George</td>\n      <td>How to photograph Comet Neowise this weekend (...</td>\n      <td>Don't miss the opportunity to see this new com...</td>\n      <td>https://www.digitalcameraworld.com/uk/news/how...</td>\n      <td>https://cdn.mos.cms.futurecdn.net/Dmyk6VoAH8PJ...</td>\n      <td>2020-07-17T13:07:00Z</td>\n      <td>Pictures of the amazing Comet Neowise have sta...</td>\n      <td>-0.15</td>\n      <td>0.170455</td>\n      <td>0.506667</td>\n      <td>0.300473</td>\n    </tr>\n    <tr>\n      <th>36</th>\n      <td>{'id': 'the-hill', 'name': 'The Hill'}</td>\n      <td>Olivia Beavers and Maggie Miller</td>\n      <td>Russian hackers return to spotlight with vacci...</td>\n      <td>Russia is facing renewed scrutiny for its cybe...</td>\n      <td>https://thehill.com/policy/national-security/5...</td>\n      <td>https://thehill.com/sites/default/files/010819...</td>\n      <td>2020-07-17T09:31:21Z</td>\n      <td>Russia is facing renewed scrutiny for its cybe...</td>\n      <td>0.00</td>\n      <td>0.800000</td>\n      <td>0.350000</td>\n      <td>0.375000</td>\n    </tr>\n  </tbody>\n</table>\n</div>"
     },
     "metadata": {},
     "execution_count": 50
    }
   ],
   "source": [
    "array_top_us = add_scores_to_array(us_response.json()['articles'])\n",
    "df = pd.DataFrame(array_top_us)\n",
    "df1 = df[(df['descriptionScore'] >= 0.5) | (df['titleScore'] >= 0.5) | (df['contentScore'] >= 0.5) | (df['allScore'] >= 0.5)]\n",
    "df1"
   ]
  },
  {
   "cell_type": "code",
   "execution_count": 70,
   "metadata": {},
   "outputs": [
    {
     "output_type": "execute_result",
     "data": {
      "text/plain": "                                          source author  \\\n25  {'id': 'google-news', 'name': 'Google News'}   None   \n32               {'id': None, 'name': 'PCWorld'}          \n\n                                                title  \\\n25  Pentagon Effectively Bans Confederate Flag | N...   \n32  AMD inside: Lenovo's latest Legion gaming lapt...   \n\n                                          description  \\\n25                                               None   \n32  Need more proof that Ryzen CPUs are on a roll?...   \n\n                                                  url  \\\n25  https://news.google.com/__i/rss/rd/articles/CB...   \n32  https://www.pcworld.com/article/3567470/amd-in...   \n\n                                           urlToImage           publishedAt  \\\n25                                               None  2020-07-17T23:48:13Z   \n32  https://images.idgesg.net/images/article/2020/...  2020-07-17T18:27:00Z   \n\n                                              content  titleScore  \\\n25                                               None         0.6   \n32  If you need yet more proof that AMDs modern Ry...         0.5   \n\n    descriptionScore  contentScore  allScore  \n25          0.000000           0.0  0.600000  \n32          0.318182           0.3  0.333766  ",
      "text/html": "<div>\n<style scoped>\n    .dataframe tbody tr th:only-of-type {\n        vertical-align: middle;\n    }\n\n    .dataframe tbody tr th {\n        vertical-align: top;\n    }\n\n    .dataframe thead th {\n        text-align: right;\n    }\n</style>\n<table border=\"1\" class=\"dataframe\">\n  <thead>\n    <tr style=\"text-align: right;\">\n      <th></th>\n      <th>source</th>\n      <th>author</th>\n      <th>title</th>\n      <th>description</th>\n      <th>url</th>\n      <th>urlToImage</th>\n      <th>publishedAt</th>\n      <th>content</th>\n      <th>titleScore</th>\n      <th>descriptionScore</th>\n      <th>contentScore</th>\n      <th>allScore</th>\n    </tr>\n  </thead>\n  <tbody>\n    <tr>\n      <th>25</th>\n      <td>{'id': 'google-news', 'name': 'Google News'}</td>\n      <td>None</td>\n      <td>Pentagon Effectively Bans Confederate Flag | N...</td>\n      <td>None</td>\n      <td>https://news.google.com/__i/rss/rd/articles/CB...</td>\n      <td>None</td>\n      <td>2020-07-17T23:48:13Z</td>\n      <td>None</td>\n      <td>0.6</td>\n      <td>0.000000</td>\n      <td>0.0</td>\n      <td>0.600000</td>\n    </tr>\n    <tr>\n      <th>32</th>\n      <td>{'id': None, 'name': 'PCWorld'}</td>\n      <td></td>\n      <td>AMD inside: Lenovo's latest Legion gaming lapt...</td>\n      <td>Need more proof that Ryzen CPUs are on a roll?...</td>\n      <td>https://www.pcworld.com/article/3567470/amd-in...</td>\n      <td>https://images.idgesg.net/images/article/2020/...</td>\n      <td>2020-07-17T18:27:00Z</td>\n      <td>If you need yet more proof that AMDs modern Ry...</td>\n      <td>0.5</td>\n      <td>0.318182</td>\n      <td>0.3</td>\n      <td>0.333766</td>\n    </tr>\n  </tbody>\n</table>\n</div>"
     },
     "metadata": {},
     "execution_count": 70
    }
   ],
   "source": [
    "df2 = df1[((df1['descriptionScore'] >= 0.01) | (df1['description'].isnull())) & ((df1['titleScore'] >= 0.01)| (df1['title'].isnull())) & ((df1['contentScore'] >= 0.01)| (df1['content'].isnull())) & ((df1['allScore'] >= 0.2)]\n",
    "\n",
    "df2"
   ]
  },
  {
   "cell_type": "code",
   "execution_count": 72,
   "metadata": {},
   "outputs": [],
   "source": [
    "must_good_url = ('http://newsapi.org/v2/everything?'\n",
    "                 'q=+good&'\n",
    "                 'from=2020-07-18&'\n",
    "                 'pageSize=100&'\n",
    "                 'sortBy=popularity&'\n",
    "                 'apiKey=7cbc46d369ec49efba7d4e1bd3df8b1a')\n",
    "\n",
    "must_good_response = requests.get(must_good_url)"
   ]
  },
  {
   "cell_type": "code",
   "execution_count": 76,
   "metadata": {},
   "outputs": [
    {
     "output_type": "execute_result",
     "data": {
      "text/plain": "                                               source  \\\n5                    {'id': 'wired', 'name': 'Wired'}   \n6   {'id': 'new-york-magazine', 'name': 'New York ...   \n7                 {'id': None, 'name': 'Gizmodo.com'}   \n9              {'id': 'mashable', 'name': 'Mashable'}   \n13             {'id': 'mashable', 'name': 'Mashable'}   \n17                       {'id': 'cnn', 'name': 'CNN'}   \n20               {'id': 'reuters', 'name': 'Reuters'}   \n21               {'id': 'reuters', 'name': 'Reuters'}   \n24               {'id': 'reuters', 'name': 'Reuters'}   \n36               {'id': 'reuters', 'name': 'Reuters'}   \n45               {'id': 'reuters', 'name': 'Reuters'}   \n47            {'id': None, 'name': 'Android Central'}   \n61  {'id': 'business-insider', 'name': 'Business I...   \n68                     {'id': None, 'name': 'Kotaku'}   \n75                {'id': None, 'name': 'Boing Boing'}   \n77                   {'id': None, 'name': 'HuffPost'}   \n85               {'id': None, 'name': 'The Atlantic'}   \n95         {'id': None, 'name': 'Rock Paper Shotgun'}   \n99              {'id': None, 'name': 'Thekitchn.com'}   \n\n                          author  \\\n5                  Brian Barrett   \n6                  Jordan Bowman   \n7                  Alyse Stanley   \n9                   Joseph Green   \n13                   Morgan Sung   \n17  Opinion by Michael Bociurkiw   \n20             Reuters Editorial   \n21             Reuters Editorial   \n24             Reuters Editorial   \n36             Reuters Editorial   \n45              Michelle Nichols   \n47             Jerry Hildenbrand   \n61             Meagan Drillinger   \n68                  Zack Zwiezen   \n75            Boing Boing's Shop   \n77              Lisa Selin Davis   \n85              Mandy Len Catron   \n95                  Nate Crowley   \n99                 Meghan Splawn   \n\n                                                title  \\\n5                    Who Pulled Off the Twitter Hack?   \n6    The best electric scooters, according to experts   \n7   Researchers Created an App That Monitors Your ...   \n9   Develop an app from scratch with this impressi...   \n13  The surprising reason Lily Allen's 'Smile' wen...   \n17  Opinion: How Justin Trudeau's latest ethics sc...   \n20  Get dirty at home: COVID-19 moves South Korea'...   \n21  Get dirty at home: COVID-19 moves S.Korea's mu...   \n24  Tennis: Healthy competition key to Russian suc...   \n36  NFL, union gear up for additional talks - Reuters   \n45  U.N. chief to world leaders: 'Inequality start...   \n47   A little bit of Samsung makes every phone better   \n61  The 11 best vodkas you can buy, according to m...   \n68                 What's The Deal With Sesame Seeds?   \n75  Here are 24 deals on Apple devices and accesso...   \n77  Staring At My Own 40-Something Face On Zoom Ha...   \n85  There Is So Much More Than the Nuclear Family,...   \n95  Henry Cavill's good, but he's got nothing on t...   \n99   The $10 Kitchen Tool That Sells Out Every Summer   \n\n                                          description  \\\n5   Plus: WhatsApp's court case, a VPN exposed, an...   \n6            It’s like regular scooting, only easier.   \n7   Even though I appreciate that it’s for a good ...   \n9   TL;DR: The Full Stack Web Development course i...   \n13  TikTok users all over the globe are dancing li...   \n17  First there was the secretive trip to Bermuda ...   \n20  When a pandemic threatens a good romp in the m...   \n21  When a pandemic threatens a good romp in the m...   \n24  Russians Daniil Medvedev, Andrey Rublev and Ka...   \n36  The NFL said in a statement issued Friday that...   \n45  U.N. Secretary-General Antonio Guterres on Sat...   \n47  Samsung doesn't need to sell its own phones to...   \n61  <ul>\\n<li>Vodka is one of the world's most pop...   \n68  This week we learn about Yoshi’s tax evasion c...   \n75  Is the iPhone 12 coming? Yes. When? That’s sti...   \n77          Zoom fatigue is real and well-documented.   \n85  The narrative of family as the most legitimate...   \n95  Lovable television strongman Henry Cavill over...   \n99         It's not JUST for ice cream.\\nREAD MORE...   \n\n                                                  url  \\\n5   https://www.wired.com/story/twitter-hack-suspe...   \n6   https://nymag.com/strategist/article/best-elec...   \n7   https://gizmodo.com/researchers-created-an-app...   \n9   https://mashable.com/uk/shopping/july-18-how-t...   \n13  https://mashable.com/article/lily-allen-smile-...   \n17  https://www.cnn.com/2020/07/17/opinions/trudea...   \n20  https://www.reuters.com/article/us-health-coro...   \n21  https://www.reuters.com/article/health-coronav...   \n24  https://www.reuters.com/article/us-tennis-russ...   \n36  https://www.reuters.com/article/us-football-nf...   \n45  https://www.reuters.com/article/us-un-rights-g...   \n47  https://www.androidcentral.com/little-bit-sams...   \n61  https://www.businessinsider.com/best-vodkas-ac...   \n68  https://kotaku.com/whats-the-deal-with-sesame-...   \n75  https://boingboing.net/2020/07/18/here-are-24-...   \n77  https://www.huffpost.com/entry/zoom-body-face-...   \n85  https://www.theatlantic.com/family/archive/202...   \n95  https://www.rockpapershotgun.com/2020/07/18/he...   \n99  https://www.thekitchn.com/best-ice-cream-spade...   \n\n                                           urlToImage           publishedAt  \\\n5   https://media.wired.com/photos/5f121d4e09857a7...  2020-07-18T13:00:00Z   \n6   https://pyxis.nymag.com/v1/imgs/452/97c/f2c3dc...  2020-07-18T14:00:00Z   \n7   https://i.kinja-img.com/gawker-media/image/upl...  2020-07-18T04:25:00Z   \n9   https://mondrian.mashable.com/2020%252F07%252F...  2020-07-18T03:30:00Z   \n13  https://mondrian.mashable.com/2020%252F07%252F...  2020-07-18T00:06:14Z   \n17  https://cdn.cnn.com/cnnnext/dam/assets/1707141...  2020-07-18T02:13:34Z   \n20  https://s2.reutersmedia.net/resources/r/?m=02&...  2020-07-18T12:38:00Z   \n21  https://s4.reutersmedia.net/resources_v2/image...  2020-07-18T12:00:00Z   \n24  https://s2.reutersmedia.net/resources/r/?m=02&...  2020-07-18T09:05:00Z   \n36  https://s4.reutersmedia.net/resources_v2/image...  2020-07-18T00:04:00Z   \n45  https://s2.reutersmedia.net/resources/r/?m=02&...  2020-07-18T15:00:00Z   \n47  https://www.androidcentral.com/sites/androidce...  2020-07-18T12:00:03Z   \n61  https://i.insider.com/5f10b33ff0f4196ba121ca32...  2020-07-18T14:07:00Z   \n68  https://i.kinja-img.com/gawker-media/image/upl...  2020-07-18T14:30:00Z   \n75  https://i2.wp.com/media.boingboing.net/wp-cont...  2020-07-18T13:00:09Z   \n77  https://img.huffingtonpost.com/asset/5f0f49bd2...  2020-07-18T13:00:01Z   \n85  https://cdn.theatlantic.com/thumbor/eQUk1NvsQu...  2020-07-18T13:00:00Z   \n95  https://assets.rockpapershotgun.com/images/202...  2020-07-18T10:00:58Z   \n99  https://cdn.apartmenttherapy.info/image/upload...  2020-07-18T15:31:07Z   \n\n                                              content  titleScore  \\\n5   On Wednesday, anunprecedented Twitter hack saw...     0.00000   \n6   At a time when public transportation has never...     1.00000   \n7   Even though I appreciate that its for a good c...    -0.10000   \n9   TL;DR: The Full Stack Web Development course i...     1.00000   \n13  TikTok users all over the globe are dancing li...     0.50000   \n17  Michael Bociurkiw is a global affairs analyst,...     0.50000   \n20  SEOUL (Reuters) - When a pandemic threatens a ...    -0.60000   \n21  SEOUL, July 18 (Reuters) - When a pandemic thr...    -0.60000   \n24  (Reuters) - Russians Daniil Medvedev, Andrey R...     0.20000   \n36  The NFL said in a statement issued Friday that...     0.00000   \n45  NEW YORK (Reuters) - U.N. Secretary-General An...     0.50000   \n47  Source: Jerry Hildenbrand / Android Central\\r\\...     0.15625   \n61  Vodka is one of the world's most favorite mixe...     1.00000   \n68  This week we learn about Yoshis tax evasion cr...     0.00000   \n75  Is the iPhone 12 coming? Yes. When? Thats stil...     0.00000   \n77  I first saw her the Wednesday after the world ...     0.60000   \n85  It’s easy to get the impression that the major...     0.50000   \n95  Lovable television strongman Henry Cavill over...     0.70000   \n99  We independently select these products—if you ...     0.00000   \n\n    descriptionScore  contentScore  allScore  \n5           0.500000      0.500000  0.500000  \n6           0.000000      0.111111  0.222222  \n7           0.600000      0.400000  0.380000  \n9           0.365714      0.400000  0.432727  \n13          0.115000      0.143750  0.195455  \n17          0.125000      0.000000  0.093750  \n20          0.700000      0.650000  0.350000  \n21          0.700000      0.650000  0.350000  \n24          0.333333      0.500000  0.311111  \n36          0.500000      0.500000  0.500000  \n45          0.166667      0.068182  0.189394  \n47          0.642857      0.500000  0.522321  \n61         -0.072222      0.091667  0.051190  \n68          0.600000      0.750000  0.675000  \n75          0.666667      0.500000  0.600000  \n77          0.200000      0.031481  0.178889  \n85          0.236111      0.300000  0.301389  \n95          0.375000      0.500000  0.457143  \n99          0.500000      0.310000  0.341667  ",
      "text/html": "<div>\n<style scoped>\n    .dataframe tbody tr th:only-of-type {\n        vertical-align: middle;\n    }\n\n    .dataframe tbody tr th {\n        vertical-align: top;\n    }\n\n    .dataframe thead th {\n        text-align: right;\n    }\n</style>\n<table border=\"1\" class=\"dataframe\">\n  <thead>\n    <tr style=\"text-align: right;\">\n      <th></th>\n      <th>source</th>\n      <th>author</th>\n      <th>title</th>\n      <th>description</th>\n      <th>url</th>\n      <th>urlToImage</th>\n      <th>publishedAt</th>\n      <th>content</th>\n      <th>titleScore</th>\n      <th>descriptionScore</th>\n      <th>contentScore</th>\n      <th>allScore</th>\n    </tr>\n  </thead>\n  <tbody>\n    <tr>\n      <th>5</th>\n      <td>{'id': 'wired', 'name': 'Wired'}</td>\n      <td>Brian Barrett</td>\n      <td>Who Pulled Off the Twitter Hack?</td>\n      <td>Plus: WhatsApp's court case, a VPN exposed, an...</td>\n      <td>https://www.wired.com/story/twitter-hack-suspe...</td>\n      <td>https://media.wired.com/photos/5f121d4e09857a7...</td>\n      <td>2020-07-18T13:00:00Z</td>\n      <td>On Wednesday, anunprecedented Twitter hack saw...</td>\n      <td>0.00000</td>\n      <td>0.500000</td>\n      <td>0.500000</td>\n      <td>0.500000</td>\n    </tr>\n    <tr>\n      <th>6</th>\n      <td>{'id': 'new-york-magazine', 'name': 'New York ...</td>\n      <td>Jordan Bowman</td>\n      <td>The best electric scooters, according to experts</td>\n      <td>It’s like regular scooting, only easier.</td>\n      <td>https://nymag.com/strategist/article/best-elec...</td>\n      <td>https://pyxis.nymag.com/v1/imgs/452/97c/f2c3dc...</td>\n      <td>2020-07-18T14:00:00Z</td>\n      <td>At a time when public transportation has never...</td>\n      <td>1.00000</td>\n      <td>0.000000</td>\n      <td>0.111111</td>\n      <td>0.222222</td>\n    </tr>\n    <tr>\n      <th>7</th>\n      <td>{'id': None, 'name': 'Gizmodo.com'}</td>\n      <td>Alyse Stanley</td>\n      <td>Researchers Created an App That Monitors Your ...</td>\n      <td>Even though I appreciate that it’s for a good ...</td>\n      <td>https://gizmodo.com/researchers-created-an-app...</td>\n      <td>https://i.kinja-img.com/gawker-media/image/upl...</td>\n      <td>2020-07-18T04:25:00Z</td>\n      <td>Even though I appreciate that its for a good c...</td>\n      <td>-0.10000</td>\n      <td>0.600000</td>\n      <td>0.400000</td>\n      <td>0.380000</td>\n    </tr>\n    <tr>\n      <th>9</th>\n      <td>{'id': 'mashable', 'name': 'Mashable'}</td>\n      <td>Joseph Green</td>\n      <td>Develop an app from scratch with this impressi...</td>\n      <td>TL;DR: The Full Stack Web Development course i...</td>\n      <td>https://mashable.com/uk/shopping/july-18-how-t...</td>\n      <td>https://mondrian.mashable.com/2020%252F07%252F...</td>\n      <td>2020-07-18T03:30:00Z</td>\n      <td>TL;DR: The Full Stack Web Development course i...</td>\n      <td>1.00000</td>\n      <td>0.365714</td>\n      <td>0.400000</td>\n      <td>0.432727</td>\n    </tr>\n    <tr>\n      <th>13</th>\n      <td>{'id': 'mashable', 'name': 'Mashable'}</td>\n      <td>Morgan Sung</td>\n      <td>The surprising reason Lily Allen's 'Smile' wen...</td>\n      <td>TikTok users all over the globe are dancing li...</td>\n      <td>https://mashable.com/article/lily-allen-smile-...</td>\n      <td>https://mondrian.mashable.com/2020%252F07%252F...</td>\n      <td>2020-07-18T00:06:14Z</td>\n      <td>TikTok users all over the globe are dancing li...</td>\n      <td>0.50000</td>\n      <td>0.115000</td>\n      <td>0.143750</td>\n      <td>0.195455</td>\n    </tr>\n    <tr>\n      <th>17</th>\n      <td>{'id': 'cnn', 'name': 'CNN'}</td>\n      <td>Opinion by Michael Bociurkiw</td>\n      <td>Opinion: How Justin Trudeau's latest ethics sc...</td>\n      <td>First there was the secretive trip to Bermuda ...</td>\n      <td>https://www.cnn.com/2020/07/17/opinions/trudea...</td>\n      <td>https://cdn.cnn.com/cnnnext/dam/assets/1707141...</td>\n      <td>2020-07-18T02:13:34Z</td>\n      <td>Michael Bociurkiw is a global affairs analyst,...</td>\n      <td>0.50000</td>\n      <td>0.125000</td>\n      <td>0.000000</td>\n      <td>0.093750</td>\n    </tr>\n    <tr>\n      <th>20</th>\n      <td>{'id': 'reuters', 'name': 'Reuters'}</td>\n      <td>Reuters Editorial</td>\n      <td>Get dirty at home: COVID-19 moves South Korea'...</td>\n      <td>When a pandemic threatens a good romp in the m...</td>\n      <td>https://www.reuters.com/article/us-health-coro...</td>\n      <td>https://s2.reutersmedia.net/resources/r/?m=02&amp;...</td>\n      <td>2020-07-18T12:38:00Z</td>\n      <td>SEOUL (Reuters) - When a pandemic threatens a ...</td>\n      <td>-0.60000</td>\n      <td>0.700000</td>\n      <td>0.650000</td>\n      <td>0.350000</td>\n    </tr>\n    <tr>\n      <th>21</th>\n      <td>{'id': 'reuters', 'name': 'Reuters'}</td>\n      <td>Reuters Editorial</td>\n      <td>Get dirty at home: COVID-19 moves S.Korea's mu...</td>\n      <td>When a pandemic threatens a good romp in the m...</td>\n      <td>https://www.reuters.com/article/health-coronav...</td>\n      <td>https://s4.reutersmedia.net/resources_v2/image...</td>\n      <td>2020-07-18T12:00:00Z</td>\n      <td>SEOUL, July 18 (Reuters) - When a pandemic thr...</td>\n      <td>-0.60000</td>\n      <td>0.700000</td>\n      <td>0.650000</td>\n      <td>0.350000</td>\n    </tr>\n    <tr>\n      <th>24</th>\n      <td>{'id': 'reuters', 'name': 'Reuters'}</td>\n      <td>Reuters Editorial</td>\n      <td>Tennis: Healthy competition key to Russian suc...</td>\n      <td>Russians Daniil Medvedev, Andrey Rublev and Ka...</td>\n      <td>https://www.reuters.com/article/us-tennis-russ...</td>\n      <td>https://s2.reutersmedia.net/resources/r/?m=02&amp;...</td>\n      <td>2020-07-18T09:05:00Z</td>\n      <td>(Reuters) - Russians Daniil Medvedev, Andrey R...</td>\n      <td>0.20000</td>\n      <td>0.333333</td>\n      <td>0.500000</td>\n      <td>0.311111</td>\n    </tr>\n    <tr>\n      <th>36</th>\n      <td>{'id': 'reuters', 'name': 'Reuters'}</td>\n      <td>Reuters Editorial</td>\n      <td>NFL, union gear up for additional talks - Reuters</td>\n      <td>The NFL said in a statement issued Friday that...</td>\n      <td>https://www.reuters.com/article/us-football-nf...</td>\n      <td>https://s4.reutersmedia.net/resources_v2/image...</td>\n      <td>2020-07-18T00:04:00Z</td>\n      <td>The NFL said in a statement issued Friday that...</td>\n      <td>0.00000</td>\n      <td>0.500000</td>\n      <td>0.500000</td>\n      <td>0.500000</td>\n    </tr>\n    <tr>\n      <th>45</th>\n      <td>{'id': 'reuters', 'name': 'Reuters'}</td>\n      <td>Michelle Nichols</td>\n      <td>U.N. chief to world leaders: 'Inequality start...</td>\n      <td>U.N. Secretary-General Antonio Guterres on Sat...</td>\n      <td>https://www.reuters.com/article/us-un-rights-g...</td>\n      <td>https://s2.reutersmedia.net/resources/r/?m=02&amp;...</td>\n      <td>2020-07-18T15:00:00Z</td>\n      <td>NEW YORK (Reuters) - U.N. Secretary-General An...</td>\n      <td>0.50000</td>\n      <td>0.166667</td>\n      <td>0.068182</td>\n      <td>0.189394</td>\n    </tr>\n    <tr>\n      <th>47</th>\n      <td>{'id': None, 'name': 'Android Central'}</td>\n      <td>Jerry Hildenbrand</td>\n      <td>A little bit of Samsung makes every phone better</td>\n      <td>Samsung doesn't need to sell its own phones to...</td>\n      <td>https://www.androidcentral.com/little-bit-sams...</td>\n      <td>https://www.androidcentral.com/sites/androidce...</td>\n      <td>2020-07-18T12:00:03Z</td>\n      <td>Source: Jerry Hildenbrand / Android Central\\r\\...</td>\n      <td>0.15625</td>\n      <td>0.642857</td>\n      <td>0.500000</td>\n      <td>0.522321</td>\n    </tr>\n    <tr>\n      <th>61</th>\n      <td>{'id': 'business-insider', 'name': 'Business I...</td>\n      <td>Meagan Drillinger</td>\n      <td>The 11 best vodkas you can buy, according to m...</td>\n      <td>&lt;ul&gt;\\n&lt;li&gt;Vodka is one of the world's most pop...</td>\n      <td>https://www.businessinsider.com/best-vodkas-ac...</td>\n      <td>https://i.insider.com/5f10b33ff0f4196ba121ca32...</td>\n      <td>2020-07-18T14:07:00Z</td>\n      <td>Vodka is one of the world's most favorite mixe...</td>\n      <td>1.00000</td>\n      <td>-0.072222</td>\n      <td>0.091667</td>\n      <td>0.051190</td>\n    </tr>\n    <tr>\n      <th>68</th>\n      <td>{'id': None, 'name': 'Kotaku'}</td>\n      <td>Zack Zwiezen</td>\n      <td>What's The Deal With Sesame Seeds?</td>\n      <td>This week we learn about Yoshi’s tax evasion c...</td>\n      <td>https://kotaku.com/whats-the-deal-with-sesame-...</td>\n      <td>https://i.kinja-img.com/gawker-media/image/upl...</td>\n      <td>2020-07-18T14:30:00Z</td>\n      <td>This week we learn about Yoshis tax evasion cr...</td>\n      <td>0.00000</td>\n      <td>0.600000</td>\n      <td>0.750000</td>\n      <td>0.675000</td>\n    </tr>\n    <tr>\n      <th>75</th>\n      <td>{'id': None, 'name': 'Boing Boing'}</td>\n      <td>Boing Boing's Shop</td>\n      <td>Here are 24 deals on Apple devices and accesso...</td>\n      <td>Is the iPhone 12 coming? Yes. When? That’s sti...</td>\n      <td>https://boingboing.net/2020/07/18/here-are-24-...</td>\n      <td>https://i2.wp.com/media.boingboing.net/wp-cont...</td>\n      <td>2020-07-18T13:00:09Z</td>\n      <td>Is the iPhone 12 coming? Yes. When? Thats stil...</td>\n      <td>0.00000</td>\n      <td>0.666667</td>\n      <td>0.500000</td>\n      <td>0.600000</td>\n    </tr>\n    <tr>\n      <th>77</th>\n      <td>{'id': None, 'name': 'HuffPost'}</td>\n      <td>Lisa Selin Davis</td>\n      <td>Staring At My Own 40-Something Face On Zoom Ha...</td>\n      <td>Zoom fatigue is real and well-documented.</td>\n      <td>https://www.huffpost.com/entry/zoom-body-face-...</td>\n      <td>https://img.huffingtonpost.com/asset/5f0f49bd2...</td>\n      <td>2020-07-18T13:00:01Z</td>\n      <td>I first saw her the Wednesday after the world ...</td>\n      <td>0.60000</td>\n      <td>0.200000</td>\n      <td>0.031481</td>\n      <td>0.178889</td>\n    </tr>\n    <tr>\n      <th>85</th>\n      <td>{'id': None, 'name': 'The Atlantic'}</td>\n      <td>Mandy Len Catron</td>\n      <td>There Is So Much More Than the Nuclear Family,...</td>\n      <td>The narrative of family as the most legitimate...</td>\n      <td>https://www.theatlantic.com/family/archive/202...</td>\n      <td>https://cdn.theatlantic.com/thumbor/eQUk1NvsQu...</td>\n      <td>2020-07-18T13:00:00Z</td>\n      <td>It’s easy to get the impression that the major...</td>\n      <td>0.50000</td>\n      <td>0.236111</td>\n      <td>0.300000</td>\n      <td>0.301389</td>\n    </tr>\n    <tr>\n      <th>95</th>\n      <td>{'id': None, 'name': 'Rock Paper Shotgun'}</td>\n      <td>Nate Crowley</td>\n      <td>Henry Cavill's good, but he's got nothing on t...</td>\n      <td>Lovable television strongman Henry Cavill over...</td>\n      <td>https://www.rockpapershotgun.com/2020/07/18/he...</td>\n      <td>https://assets.rockpapershotgun.com/images/202...</td>\n      <td>2020-07-18T10:00:58Z</td>\n      <td>Lovable television strongman Henry Cavill over...</td>\n      <td>0.70000</td>\n      <td>0.375000</td>\n      <td>0.500000</td>\n      <td>0.457143</td>\n    </tr>\n    <tr>\n      <th>99</th>\n      <td>{'id': None, 'name': 'Thekitchn.com'}</td>\n      <td>Meghan Splawn</td>\n      <td>The $10 Kitchen Tool That Sells Out Every Summer</td>\n      <td>It's not JUST for ice cream.\\nREAD MORE...</td>\n      <td>https://www.thekitchn.com/best-ice-cream-spade...</td>\n      <td>https://cdn.apartmenttherapy.info/image/upload...</td>\n      <td>2020-07-18T15:31:07Z</td>\n      <td>We independently select these products—if you ...</td>\n      <td>0.00000</td>\n      <td>0.500000</td>\n      <td>0.310000</td>\n      <td>0.341667</td>\n    </tr>\n  </tbody>\n</table>\n</div>"
     },
     "metadata": {},
     "execution_count": 76
    }
   ],
   "source": [
    "array_must_good = add_scores_to_array(must_good_response.json()['articles'])\n",
    "df = pd.DataFrame(array_must_good)\n",
    "df1 = df[(df['descriptionScore'] >= 0.5) | (df['titleScore'] >= 0.5) | (df['contentScore'] >= 0.5) | (df['allScore'] >= 0.5)]\n",
    "df1"
   ]
  },
  {
   "cell_type": "code",
   "execution_count": 80,
   "metadata": {},
   "outputs": [
    {
     "output_type": "execute_result",
     "data": {
      "text/plain": "                                        source             author  \\\n9       {'id': 'mashable', 'name': 'Mashable'}       Joseph Green   \n24        {'id': 'reuters', 'name': 'Reuters'}  Reuters Editorial   \n47     {'id': None, 'name': 'Android Central'}  Jerry Hildenbrand   \n85        {'id': None, 'name': 'The Atlantic'}   Mandy Len Catron   \n95  {'id': None, 'name': 'Rock Paper Shotgun'}       Nate Crowley   \n\n                                                title  \\\n9   Develop an app from scratch with this impressi...   \n24  Tennis: Healthy competition key to Russian suc...   \n47   A little bit of Samsung makes every phone better   \n85  There Is So Much More Than the Nuclear Family,...   \n95  Henry Cavill's good, but he's got nothing on t...   \n\n                                          description  \\\n9   TL;DR: The Full Stack Web Development course i...   \n24  Russians Daniil Medvedev, Andrey Rublev and Ka...   \n47  Samsung doesn't need to sell its own phones to...   \n85  The narrative of family as the most legitimate...   \n95  Lovable television strongman Henry Cavill over...   \n\n                                                  url  \\\n9   https://mashable.com/uk/shopping/july-18-how-t...   \n24  https://www.reuters.com/article/us-tennis-russ...   \n47  https://www.androidcentral.com/little-bit-sams...   \n85  https://www.theatlantic.com/family/archive/202...   \n95  https://www.rockpapershotgun.com/2020/07/18/he...   \n\n                                           urlToImage           publishedAt  \\\n9   https://mondrian.mashable.com/2020%252F07%252F...  2020-07-18T03:30:00Z   \n24  https://s2.reutersmedia.net/resources/r/?m=02&...  2020-07-18T09:05:00Z   \n47  https://www.androidcentral.com/sites/androidce...  2020-07-18T12:00:03Z   \n85  https://cdn.theatlantic.com/thumbor/eQUk1NvsQu...  2020-07-18T13:00:00Z   \n95  https://assets.rockpapershotgun.com/images/202...  2020-07-18T10:00:58Z   \n\n                                              content  titleScore  \\\n9   TL;DR: The Full Stack Web Development course i...     1.00000   \n24  (Reuters) - Russians Daniil Medvedev, Andrey R...     0.20000   \n47  Source: Jerry Hildenbrand / Android Central\\r\\...     0.15625   \n85  It’s easy to get the impression that the major...     0.50000   \n95  Lovable television strongman Henry Cavill over...     0.70000   \n\n    descriptionScore  contentScore  allScore  \n9           0.365714           0.4  0.432727  \n24          0.333333           0.5  0.311111  \n47          0.642857           0.5  0.522321  \n85          0.236111           0.3  0.301389  \n95          0.375000           0.5  0.457143  ",
      "text/html": "<div>\n<style scoped>\n    .dataframe tbody tr th:only-of-type {\n        vertical-align: middle;\n    }\n\n    .dataframe tbody tr th {\n        vertical-align: top;\n    }\n\n    .dataframe thead th {\n        text-align: right;\n    }\n</style>\n<table border=\"1\" class=\"dataframe\">\n  <thead>\n    <tr style=\"text-align: right;\">\n      <th></th>\n      <th>source</th>\n      <th>author</th>\n      <th>title</th>\n      <th>description</th>\n      <th>url</th>\n      <th>urlToImage</th>\n      <th>publishedAt</th>\n      <th>content</th>\n      <th>titleScore</th>\n      <th>descriptionScore</th>\n      <th>contentScore</th>\n      <th>allScore</th>\n    </tr>\n  </thead>\n  <tbody>\n    <tr>\n      <th>9</th>\n      <td>{'id': 'mashable', 'name': 'Mashable'}</td>\n      <td>Joseph Green</td>\n      <td>Develop an app from scratch with this impressi...</td>\n      <td>TL;DR: The Full Stack Web Development course i...</td>\n      <td>https://mashable.com/uk/shopping/july-18-how-t...</td>\n      <td>https://mondrian.mashable.com/2020%252F07%252F...</td>\n      <td>2020-07-18T03:30:00Z</td>\n      <td>TL;DR: The Full Stack Web Development course i...</td>\n      <td>1.00000</td>\n      <td>0.365714</td>\n      <td>0.4</td>\n      <td>0.432727</td>\n    </tr>\n    <tr>\n      <th>24</th>\n      <td>{'id': 'reuters', 'name': 'Reuters'}</td>\n      <td>Reuters Editorial</td>\n      <td>Tennis: Healthy competition key to Russian suc...</td>\n      <td>Russians Daniil Medvedev, Andrey Rublev and Ka...</td>\n      <td>https://www.reuters.com/article/us-tennis-russ...</td>\n      <td>https://s2.reutersmedia.net/resources/r/?m=02&amp;...</td>\n      <td>2020-07-18T09:05:00Z</td>\n      <td>(Reuters) - Russians Daniil Medvedev, Andrey R...</td>\n      <td>0.20000</td>\n      <td>0.333333</td>\n      <td>0.5</td>\n      <td>0.311111</td>\n    </tr>\n    <tr>\n      <th>47</th>\n      <td>{'id': None, 'name': 'Android Central'}</td>\n      <td>Jerry Hildenbrand</td>\n      <td>A little bit of Samsung makes every phone better</td>\n      <td>Samsung doesn't need to sell its own phones to...</td>\n      <td>https://www.androidcentral.com/little-bit-sams...</td>\n      <td>https://www.androidcentral.com/sites/androidce...</td>\n      <td>2020-07-18T12:00:03Z</td>\n      <td>Source: Jerry Hildenbrand / Android Central\\r\\...</td>\n      <td>0.15625</td>\n      <td>0.642857</td>\n      <td>0.5</td>\n      <td>0.522321</td>\n    </tr>\n    <tr>\n      <th>85</th>\n      <td>{'id': None, 'name': 'The Atlantic'}</td>\n      <td>Mandy Len Catron</td>\n      <td>There Is So Much More Than the Nuclear Family,...</td>\n      <td>The narrative of family as the most legitimate...</td>\n      <td>https://www.theatlantic.com/family/archive/202...</td>\n      <td>https://cdn.theatlantic.com/thumbor/eQUk1NvsQu...</td>\n      <td>2020-07-18T13:00:00Z</td>\n      <td>It’s easy to get the impression that the major...</td>\n      <td>0.50000</td>\n      <td>0.236111</td>\n      <td>0.3</td>\n      <td>0.301389</td>\n    </tr>\n    <tr>\n      <th>95</th>\n      <td>{'id': None, 'name': 'Rock Paper Shotgun'}</td>\n      <td>Nate Crowley</td>\n      <td>Henry Cavill's good, but he's got nothing on t...</td>\n      <td>Lovable television strongman Henry Cavill over...</td>\n      <td>https://www.rockpapershotgun.com/2020/07/18/he...</td>\n      <td>https://assets.rockpapershotgun.com/images/202...</td>\n      <td>2020-07-18T10:00:58Z</td>\n      <td>Lovable television strongman Henry Cavill over...</td>\n      <td>0.70000</td>\n      <td>0.375000</td>\n      <td>0.5</td>\n      <td>0.457143</td>\n    </tr>\n  </tbody>\n</table>\n</div>"
     },
     "metadata": {},
     "execution_count": 80
    }
   ],
   "source": [
    "df2 = df1[((df1['descriptionScore'] >= 0.01) | (df1['description'].isnull())) & ((df1['titleScore'] >= 0.01)| (df1['title'].isnull())) & ((df1['contentScore'] >= 0.01)| (df1['content'].isnull())) & (df1['allScore'] >= 0.2)]\n",
    "df2\n"
   ]
  },
  {
   "cell_type": "code",
   "execution_count": 81,
   "metadata": {},
   "outputs": [],
   "source": [
    "au_entertainment_url = ('http://newsapi.org/v2/top-headlines?'\n",
    "                        'country=au&'\n",
    "                        'from=2020-07-18&'\n",
    "                        'category=entertainment&'\n",
    "                        'pageSize=100&'\n",
    "                        'sortBy=popularity&'\n",
    "                        'apiKey=7cbc46d369ec49efba7d4e1bd3df8b1a')\n",
    "\n",
    "au_entertainment_response = requests.get(au_entertainment_url)"
   ]
  },
  {
   "cell_type": "code",
   "execution_count": 84,
   "metadata": {},
   "outputs": [
    {
     "output_type": "execute_result",
     "data": {
      "text/plain": "                                               source  \\\n2                  {'id': None, 'name': 'Daily Mail'}   \n7                    {'id': None, 'name': 'PerthNow'}   \n10        {'id': None, 'name': 'Yahoo Entertainment'}   \n17                       {'id': None, 'name': 'Nine'}   \n18                    {'id': None, 'name': 'Mamamia'}   \n28                    {'id': None, 'name': 'Express'}   \n29  {'id': None, 'name': 'The Sydney Morning Herald'}   \n40                    {'id': None, 'name': 'Mamamia'}   \n46           {'id': 'techradar', 'name': 'TechRadar'}   \n54       {'id': None, 'name': 'Essentialbaby.com.au'}   \n59                 {'id': None, 'name': 'Daily Mail'}   \n62                       {'id': None, 'name': 'Nine'}   \n69                 {'id': None, 'name': 'Herald Sun'}   \n\n                                             author  \\\n2           By J. Peterson For Daily Mail Australia   \n7                                          PerthNow   \n10                                   Lifestyle Team   \n17                                   Maddison Leach   \n18                                     Mamamia Team   \n28                                    Josh Saunders   \n29                                    Sophie Aubrey   \n40                                     Mamamia Team   \n46                               Stephen Lambrechts   \n54                                   Ariane Beeston   \n59  By Chloe-lee Longhetti For Daily Mail Australia   \n62                                 Christine Estera   \n69                                             None   \n\n                                                title  \\\n2   Rebel Wilson shares flattering selfies of her ...   \n7   Ketut takes to social media to confirm he and ...   \n10  COVID hospitalisation for ‘World's most beauti...   \n17  Jacinda Ardern joins TikTok impersonator for h...   \n18  The first secret royal wedding in 235 years: W...   \n28  Meghan Markle's stunning assessment of Ivanka ...   \n29  The fashion statement we didn't want might bec...   \n40  \"I get the irony.\" Chris Sebastian on stepping...   \n46  Henry Cavill flexes his PC-building muscles in...   \n54  Jools Oliver opens up about fifth miscarriage ...   \n59  AAMI hilariously confirms that Rhonda and Ketu...   \n62  Ellen DeGeneres and Portia de Rossi mourn the ...   \n69  Naya Rivera: Incredible tribute to Glee star’s...   \n\n                                          description  \\\n2   She has been achieving incredible results thro...   \n7   In what is basically the only good news to com...   \n10  Aishwarya Rai Bachchan and her daughter tested...   \n17                                                      \n18  Princess Beatrice wedding venue: On 17 July, P...   \n28  MEGHAN MARKLE revealed her dreams of being mor...   \n29  The mask has become synonymous with the pandem...   \n40  Chris Sebastian The Voice: The irony of carvin...   \n46                         Toss a CPU to your Witcher   \n54  \"It's a terrible thing to keep wanting somethi...   \n59  Everyone remembers the iconic AAMI adverts tha...   \n62                                                      \n69  Subscribe to the Herald Sun to get unrestricte...   \n\n                                                  url  \\\n2   https://www.dailymail.co.uk/tvshowbiz/article-...   \n7   https://www.perthnow.com.au/news/offbeat/ketut...   \n10  https://au.lifestyle.yahoo.com/covid-hospitali...   \n17  https://honey.nine.com.au/latest/jacinda-arder...   \n18  https://www.mamamia.com.au/princess-beatrice-w...   \n28  https://www.express.co.uk/news/royal/1310970/m...   \n29  https://www.smh.com.au/lifestyle/fashion/the-f...   \n40  https://www.mamamia.com.au/chris-sebastian-the...   \n46  https://www.techradar.com/news/henry-cavill-fl...   \n54  http://www.essentialbaby.com.au/news/celebrity...   \n59  https://www.dailymail.co.uk/tvshowbiz/article-...   \n62  https://celebrity.nine.com.au/latest/ellen-deg...   \n69     https://www.heraldsun.com.au/subscribe/news/1/   \n\n                                           urlToImage           publishedAt  \\\n2   https://i.dailymail.co.uk/1s/2020/07/18/09/309...  2020-07-18T09:15:16Z   \n7   https://images.s.perthnow.com.au/publication/B...  2020-07-18T05:12:00Z   \n10  https://s.yimg.com/uu/api/res/1.2/5bCE_7uzSrLb...  2020-07-18T04:12:51Z   \n17  https://imageresizer.static9.net.au/sff6yYdXUd...  2020-07-18T01:48:00Z   \n18  https://storage.googleapis.com/mamamia-pwa.app...  2020-07-18T01:09:04Z   \n28  https://cdn.images.express.co.uk/img/dynamic/1...  2020-07-17T15:59:54Z   \n29  https://static.ffx.io/images/$zoom_0.5295%2C$m...  2020-07-17T14:00:00Z   \n40  https://storage.googleapis.com/mamamia-pwa.app...  2020-07-17T04:17:07Z   \n46  https://cdn.mos.cms.futurecdn.net/3HUGcB4VzDGv...  2020-07-17T02:11:00Z   \n54  http://www.essentialbaby.com.au/content/dam/im...  2020-07-17T00:04:03Z   \n59  https://i.dailymail.co.uk/1s/2020/07/16/23/308...  2020-07-16T22:59:13Z   \n62  https://imageresizer.static9.net.au/CBE1oMv0UF...  2020-07-16T21:56:00Z   \n69                                               None  2020-07-16T10:53:32Z   \n\n                                              content  titleScore  \\\n2   She has been achieving incredible results thro...    0.000000   \n7   Just as we were about to throw 2020 in a bin f...    0.033333   \n10  Aishwarya Rai Bachchan and her eight-year-old ...    0.675000   \n17  Jacinda Ardern has teamed up with erm, herself...    0.500000   \n18  During the knighting ceremony, the Queen share...   -0.075000   \n28                                               None    0.250000   \n29  Burrows began selling silk masks two months ag...    0.000000   \n40  \"It put this reignited fire in my belly, I can...    0.000000   \n46  Along with his on-screen heroics as both Super...    0.500000   \n54  Image/Instagram \\r\\nJools Oliver, wife of cele...    0.000000   \n59  Everyone remembers the iconic AAMI adverts tha...    0.333333   \n62  Ellen DeGeneres is mourning the loss of her an...    0.700000   \n69                                               None    0.900000   \n\n    descriptionScore  contentScore  allScore  \n2           0.900000      0.518182  0.484091  \n7           0.247222      0.600000  0.329167  \n10          0.113636      0.020202  0.233983  \n17          0.000000      0.445455  0.459091  \n18          0.225000      0.515000  0.221667  \n28          0.500000      0.000000  0.333333  \n29          0.037500      0.600000  0.225000  \n40          0.600000      0.437500  0.491667  \n46          0.000000      0.350000  0.400000  \n54         -1.000000      0.500000 -0.166667  \n59          0.500000      0.300000  0.342857  \n62          0.000000      0.000000  0.700000  \n69          0.250000      0.000000  0.466667  ",
      "text/html": "<div>\n<style scoped>\n    .dataframe tbody tr th:only-of-type {\n        vertical-align: middle;\n    }\n\n    .dataframe tbody tr th {\n        vertical-align: top;\n    }\n\n    .dataframe thead th {\n        text-align: right;\n    }\n</style>\n<table border=\"1\" class=\"dataframe\">\n  <thead>\n    <tr style=\"text-align: right;\">\n      <th></th>\n      <th>source</th>\n      <th>author</th>\n      <th>title</th>\n      <th>description</th>\n      <th>url</th>\n      <th>urlToImage</th>\n      <th>publishedAt</th>\n      <th>content</th>\n      <th>titleScore</th>\n      <th>descriptionScore</th>\n      <th>contentScore</th>\n      <th>allScore</th>\n    </tr>\n  </thead>\n  <tbody>\n    <tr>\n      <th>2</th>\n      <td>{'id': None, 'name': 'Daily Mail'}</td>\n      <td>By J. Peterson For Daily Mail Australia</td>\n      <td>Rebel Wilson shares flattering selfies of her ...</td>\n      <td>She has been achieving incredible results thro...</td>\n      <td>https://www.dailymail.co.uk/tvshowbiz/article-...</td>\n      <td>https://i.dailymail.co.uk/1s/2020/07/18/09/309...</td>\n      <td>2020-07-18T09:15:16Z</td>\n      <td>She has been achieving incredible results thro...</td>\n      <td>0.000000</td>\n      <td>0.900000</td>\n      <td>0.518182</td>\n      <td>0.484091</td>\n    </tr>\n    <tr>\n      <th>7</th>\n      <td>{'id': None, 'name': 'PerthNow'}</td>\n      <td>PerthNow</td>\n      <td>Ketut takes to social media to confirm he and ...</td>\n      <td>In what is basically the only good news to com...</td>\n      <td>https://www.perthnow.com.au/news/offbeat/ketut...</td>\n      <td>https://images.s.perthnow.com.au/publication/B...</td>\n      <td>2020-07-18T05:12:00Z</td>\n      <td>Just as we were about to throw 2020 in a bin f...</td>\n      <td>0.033333</td>\n      <td>0.247222</td>\n      <td>0.600000</td>\n      <td>0.329167</td>\n    </tr>\n    <tr>\n      <th>10</th>\n      <td>{'id': None, 'name': 'Yahoo Entertainment'}</td>\n      <td>Lifestyle Team</td>\n      <td>COVID hospitalisation for ‘World's most beauti...</td>\n      <td>Aishwarya Rai Bachchan and her daughter tested...</td>\n      <td>https://au.lifestyle.yahoo.com/covid-hospitali...</td>\n      <td>https://s.yimg.com/uu/api/res/1.2/5bCE_7uzSrLb...</td>\n      <td>2020-07-18T04:12:51Z</td>\n      <td>Aishwarya Rai Bachchan and her eight-year-old ...</td>\n      <td>0.675000</td>\n      <td>0.113636</td>\n      <td>0.020202</td>\n      <td>0.233983</td>\n    </tr>\n    <tr>\n      <th>17</th>\n      <td>{'id': None, 'name': 'Nine'}</td>\n      <td>Maddison Leach</td>\n      <td>Jacinda Ardern joins TikTok impersonator for h...</td>\n      <td></td>\n      <td>https://honey.nine.com.au/latest/jacinda-arder...</td>\n      <td>https://imageresizer.static9.net.au/sff6yYdXUd...</td>\n      <td>2020-07-18T01:48:00Z</td>\n      <td>Jacinda Ardern has teamed up with erm, herself...</td>\n      <td>0.500000</td>\n      <td>0.000000</td>\n      <td>0.445455</td>\n      <td>0.459091</td>\n    </tr>\n    <tr>\n      <th>18</th>\n      <td>{'id': None, 'name': 'Mamamia'}</td>\n      <td>Mamamia Team</td>\n      <td>The first secret royal wedding in 235 years: W...</td>\n      <td>Princess Beatrice wedding venue: On 17 July, P...</td>\n      <td>https://www.mamamia.com.au/princess-beatrice-w...</td>\n      <td>https://storage.googleapis.com/mamamia-pwa.app...</td>\n      <td>2020-07-18T01:09:04Z</td>\n      <td>During the knighting ceremony, the Queen share...</td>\n      <td>-0.075000</td>\n      <td>0.225000</td>\n      <td>0.515000</td>\n      <td>0.221667</td>\n    </tr>\n    <tr>\n      <th>28</th>\n      <td>{'id': None, 'name': 'Express'}</td>\n      <td>Josh Saunders</td>\n      <td>Meghan Markle's stunning assessment of Ivanka ...</td>\n      <td>MEGHAN MARKLE revealed her dreams of being mor...</td>\n      <td>https://www.express.co.uk/news/royal/1310970/m...</td>\n      <td>https://cdn.images.express.co.uk/img/dynamic/1...</td>\n      <td>2020-07-17T15:59:54Z</td>\n      <td>None</td>\n      <td>0.250000</td>\n      <td>0.500000</td>\n      <td>0.000000</td>\n      <td>0.333333</td>\n    </tr>\n    <tr>\n      <th>29</th>\n      <td>{'id': None, 'name': 'The Sydney Morning Herald'}</td>\n      <td>Sophie Aubrey</td>\n      <td>The fashion statement we didn't want might bec...</td>\n      <td>The mask has become synonymous with the pandem...</td>\n      <td>https://www.smh.com.au/lifestyle/fashion/the-f...</td>\n      <td>https://static.ffx.io/images/$zoom_0.5295%2C$m...</td>\n      <td>2020-07-17T14:00:00Z</td>\n      <td>Burrows began selling silk masks two months ag...</td>\n      <td>0.000000</td>\n      <td>0.037500</td>\n      <td>0.600000</td>\n      <td>0.225000</td>\n    </tr>\n    <tr>\n      <th>40</th>\n      <td>{'id': None, 'name': 'Mamamia'}</td>\n      <td>Mamamia Team</td>\n      <td>\"I get the irony.\" Chris Sebastian on stepping...</td>\n      <td>Chris Sebastian The Voice: The irony of carvin...</td>\n      <td>https://www.mamamia.com.au/chris-sebastian-the...</td>\n      <td>https://storage.googleapis.com/mamamia-pwa.app...</td>\n      <td>2020-07-17T04:17:07Z</td>\n      <td>\"It put this reignited fire in my belly, I can...</td>\n      <td>0.000000</td>\n      <td>0.600000</td>\n      <td>0.437500</td>\n      <td>0.491667</td>\n    </tr>\n    <tr>\n      <th>46</th>\n      <td>{'id': 'techradar', 'name': 'TechRadar'}</td>\n      <td>Stephen Lambrechts</td>\n      <td>Henry Cavill flexes his PC-building muscles in...</td>\n      <td>Toss a CPU to your Witcher</td>\n      <td>https://www.techradar.com/news/henry-cavill-fl...</td>\n      <td>https://cdn.mos.cms.futurecdn.net/3HUGcB4VzDGv...</td>\n      <td>2020-07-17T02:11:00Z</td>\n      <td>Along with his on-screen heroics as both Super...</td>\n      <td>0.500000</td>\n      <td>0.000000</td>\n      <td>0.350000</td>\n      <td>0.400000</td>\n    </tr>\n    <tr>\n      <th>54</th>\n      <td>{'id': None, 'name': 'Essentialbaby.com.au'}</td>\n      <td>Ariane Beeston</td>\n      <td>Jools Oliver opens up about fifth miscarriage ...</td>\n      <td>\"It's a terrible thing to keep wanting somethi...</td>\n      <td>http://www.essentialbaby.com.au/news/celebrity...</td>\n      <td>http://www.essentialbaby.com.au/content/dam/im...</td>\n      <td>2020-07-17T00:04:03Z</td>\n      <td>Image/Instagram \\r\\nJools Oliver, wife of cele...</td>\n      <td>0.000000</td>\n      <td>-1.000000</td>\n      <td>0.500000</td>\n      <td>-0.166667</td>\n    </tr>\n    <tr>\n      <th>59</th>\n      <td>{'id': None, 'name': 'Daily Mail'}</td>\n      <td>By Chloe-lee Longhetti For Daily Mail Australia</td>\n      <td>AAMI hilariously confirms that Rhonda and Ketu...</td>\n      <td>Everyone remembers the iconic AAMI adverts tha...</td>\n      <td>https://www.dailymail.co.uk/tvshowbiz/article-...</td>\n      <td>https://i.dailymail.co.uk/1s/2020/07/16/23/308...</td>\n      <td>2020-07-16T22:59:13Z</td>\n      <td>Everyone remembers the iconic AAMI adverts tha...</td>\n      <td>0.333333</td>\n      <td>0.500000</td>\n      <td>0.300000</td>\n      <td>0.342857</td>\n    </tr>\n    <tr>\n      <th>62</th>\n      <td>{'id': None, 'name': 'Nine'}</td>\n      <td>Christine Estera</td>\n      <td>Ellen DeGeneres and Portia de Rossi mourn the ...</td>\n      <td></td>\n      <td>https://celebrity.nine.com.au/latest/ellen-deg...</td>\n      <td>https://imageresizer.static9.net.au/CBE1oMv0UF...</td>\n      <td>2020-07-16T21:56:00Z</td>\n      <td>Ellen DeGeneres is mourning the loss of her an...</td>\n      <td>0.700000</td>\n      <td>0.000000</td>\n      <td>0.000000</td>\n      <td>0.700000</td>\n    </tr>\n    <tr>\n      <th>69</th>\n      <td>{'id': None, 'name': 'Herald Sun'}</td>\n      <td>None</td>\n      <td>Naya Rivera: Incredible tribute to Glee star’s...</td>\n      <td>Subscribe to the Herald Sun to get unrestricte...</td>\n      <td>https://www.heraldsun.com.au/subscribe/news/1/</td>\n      <td>None</td>\n      <td>2020-07-16T10:53:32Z</td>\n      <td>None</td>\n      <td>0.900000</td>\n      <td>0.250000</td>\n      <td>0.000000</td>\n      <td>0.466667</td>\n    </tr>\n  </tbody>\n</table>\n</div>"
     },
     "metadata": {},
     "execution_count": 84
    }
   ],
   "source": [
    "array_au_entertainment = add_scores_to_array(au_entertainment_response.json()['articles'])\n",
    "df = pd.DataFrame(array_au_entertainment)\n",
    "df1 = df[(df['descriptionScore'] >= 0.5) | (df['titleScore'] >= 0.5) | (df['contentScore'] >= 0.5) | (df['allScore'] >= 0.5)]\n",
    "df1"
   ]
  },
  {
   "cell_type": "code",
   "execution_count": 86,
   "metadata": {},
   "outputs": [
    {
     "output_type": "execute_result",
     "data": {
      "text/plain": "                                         source  \\\n7              {'id': None, 'name': 'PerthNow'}   \n10  {'id': None, 'name': 'Yahoo Entertainment'}   \n17                 {'id': None, 'name': 'Nine'}   \n28              {'id': None, 'name': 'Express'}   \n59           {'id': None, 'name': 'Daily Mail'}   \n69           {'id': None, 'name': 'Herald Sun'}   \n\n                                             author  \\\n7                                          PerthNow   \n10                                   Lifestyle Team   \n17                                   Maddison Leach   \n28                                    Josh Saunders   \n59  By Chloe-lee Longhetti For Daily Mail Australia   \n69                                             None   \n\n                                                title  \\\n7   Ketut takes to social media to confirm he and ...   \n10  COVID hospitalisation for ‘World's most beauti...   \n17  Jacinda Ardern joins TikTok impersonator for h...   \n28  Meghan Markle's stunning assessment of Ivanka ...   \n59  AAMI hilariously confirms that Rhonda and Ketu...   \n69  Naya Rivera: Incredible tribute to Glee star’s...   \n\n                                          description  \\\n7   In what is basically the only good news to com...   \n10  Aishwarya Rai Bachchan and her daughter tested...   \n17                                                      \n28  MEGHAN MARKLE revealed her dreams of being mor...   \n59  Everyone remembers the iconic AAMI adverts tha...   \n69  Subscribe to the Herald Sun to get unrestricte...   \n\n                                                  url  \\\n7   https://www.perthnow.com.au/news/offbeat/ketut...   \n10  https://au.lifestyle.yahoo.com/covid-hospitali...   \n17  https://honey.nine.com.au/latest/jacinda-arder...   \n28  https://www.express.co.uk/news/royal/1310970/m...   \n59  https://www.dailymail.co.uk/tvshowbiz/article-...   \n69     https://www.heraldsun.com.au/subscribe/news/1/   \n\n                                           urlToImage           publishedAt  \\\n7   https://images.s.perthnow.com.au/publication/B...  2020-07-18T05:12:00Z   \n10  https://s.yimg.com/uu/api/res/1.2/5bCE_7uzSrLb...  2020-07-18T04:12:51Z   \n17  https://imageresizer.static9.net.au/sff6yYdXUd...  2020-07-18T01:48:00Z   \n28  https://cdn.images.express.co.uk/img/dynamic/1...  2020-07-17T15:59:54Z   \n59  https://i.dailymail.co.uk/1s/2020/07/16/23/308...  2020-07-16T22:59:13Z   \n69                                               None  2020-07-16T10:53:32Z   \n\n                                              content  titleScore  \\\n7   Just as we were about to throw 2020 in a bin f...    0.033333   \n10  Aishwarya Rai Bachchan and her eight-year-old ...    0.675000   \n17  Jacinda Ardern has teamed up with erm, herself...    0.500000   \n28                                               None    0.250000   \n59  Everyone remembers the iconic AAMI adverts tha...    0.333333   \n69                                               None    0.900000   \n\n    descriptionScore  contentScore  allScore  \n7           0.247222      0.600000  0.329167  \n10          0.113636      0.020202  0.233983  \n17          0.000000      0.445455  0.459091  \n28          0.500000      0.000000  0.333333  \n59          0.500000      0.300000  0.342857  \n69          0.250000      0.000000  0.466667  ",
      "text/html": "<div>\n<style scoped>\n    .dataframe tbody tr th:only-of-type {\n        vertical-align: middle;\n    }\n\n    .dataframe tbody tr th {\n        vertical-align: top;\n    }\n\n    .dataframe thead th {\n        text-align: right;\n    }\n</style>\n<table border=\"1\" class=\"dataframe\">\n  <thead>\n    <tr style=\"text-align: right;\">\n      <th></th>\n      <th>source</th>\n      <th>author</th>\n      <th>title</th>\n      <th>description</th>\n      <th>url</th>\n      <th>urlToImage</th>\n      <th>publishedAt</th>\n      <th>content</th>\n      <th>titleScore</th>\n      <th>descriptionScore</th>\n      <th>contentScore</th>\n      <th>allScore</th>\n    </tr>\n  </thead>\n  <tbody>\n    <tr>\n      <th>7</th>\n      <td>{'id': None, 'name': 'PerthNow'}</td>\n      <td>PerthNow</td>\n      <td>Ketut takes to social media to confirm he and ...</td>\n      <td>In what is basically the only good news to com...</td>\n      <td>https://www.perthnow.com.au/news/offbeat/ketut...</td>\n      <td>https://images.s.perthnow.com.au/publication/B...</td>\n      <td>2020-07-18T05:12:00Z</td>\n      <td>Just as we were about to throw 2020 in a bin f...</td>\n      <td>0.033333</td>\n      <td>0.247222</td>\n      <td>0.600000</td>\n      <td>0.329167</td>\n    </tr>\n    <tr>\n      <th>10</th>\n      <td>{'id': None, 'name': 'Yahoo Entertainment'}</td>\n      <td>Lifestyle Team</td>\n      <td>COVID hospitalisation for ‘World's most beauti...</td>\n      <td>Aishwarya Rai Bachchan and her daughter tested...</td>\n      <td>https://au.lifestyle.yahoo.com/covid-hospitali...</td>\n      <td>https://s.yimg.com/uu/api/res/1.2/5bCE_7uzSrLb...</td>\n      <td>2020-07-18T04:12:51Z</td>\n      <td>Aishwarya Rai Bachchan and her eight-year-old ...</td>\n      <td>0.675000</td>\n      <td>0.113636</td>\n      <td>0.020202</td>\n      <td>0.233983</td>\n    </tr>\n    <tr>\n      <th>17</th>\n      <td>{'id': None, 'name': 'Nine'}</td>\n      <td>Maddison Leach</td>\n      <td>Jacinda Ardern joins TikTok impersonator for h...</td>\n      <td></td>\n      <td>https://honey.nine.com.au/latest/jacinda-arder...</td>\n      <td>https://imageresizer.static9.net.au/sff6yYdXUd...</td>\n      <td>2020-07-18T01:48:00Z</td>\n      <td>Jacinda Ardern has teamed up with erm, herself...</td>\n      <td>0.500000</td>\n      <td>0.000000</td>\n      <td>0.445455</td>\n      <td>0.459091</td>\n    </tr>\n    <tr>\n      <th>28</th>\n      <td>{'id': None, 'name': 'Express'}</td>\n      <td>Josh Saunders</td>\n      <td>Meghan Markle's stunning assessment of Ivanka ...</td>\n      <td>MEGHAN MARKLE revealed her dreams of being mor...</td>\n      <td>https://www.express.co.uk/news/royal/1310970/m...</td>\n      <td>https://cdn.images.express.co.uk/img/dynamic/1...</td>\n      <td>2020-07-17T15:59:54Z</td>\n      <td>None</td>\n      <td>0.250000</td>\n      <td>0.500000</td>\n      <td>0.000000</td>\n      <td>0.333333</td>\n    </tr>\n    <tr>\n      <th>59</th>\n      <td>{'id': None, 'name': 'Daily Mail'}</td>\n      <td>By Chloe-lee Longhetti For Daily Mail Australia</td>\n      <td>AAMI hilariously confirms that Rhonda and Ketu...</td>\n      <td>Everyone remembers the iconic AAMI adverts tha...</td>\n      <td>https://www.dailymail.co.uk/tvshowbiz/article-...</td>\n      <td>https://i.dailymail.co.uk/1s/2020/07/16/23/308...</td>\n      <td>2020-07-16T22:59:13Z</td>\n      <td>Everyone remembers the iconic AAMI adverts tha...</td>\n      <td>0.333333</td>\n      <td>0.500000</td>\n      <td>0.300000</td>\n      <td>0.342857</td>\n    </tr>\n    <tr>\n      <th>69</th>\n      <td>{'id': None, 'name': 'Herald Sun'}</td>\n      <td>None</td>\n      <td>Naya Rivera: Incredible tribute to Glee star’s...</td>\n      <td>Subscribe to the Herald Sun to get unrestricte...</td>\n      <td>https://www.heraldsun.com.au/subscribe/news/1/</td>\n      <td>None</td>\n      <td>2020-07-16T10:53:32Z</td>\n      <td>None</td>\n      <td>0.900000</td>\n      <td>0.250000</td>\n      <td>0.000000</td>\n      <td>0.466667</td>\n    </tr>\n  </tbody>\n</table>\n</div>"
     },
     "metadata": {},
     "execution_count": 86
    }
   ],
   "source": [
    "df2 = df1[((df1['descriptionScore'] >= 0.01) | (df1['description'].isnull()) | (df1['description']=='')) & ((df1['titleScore'] >= 0.01)| (df1['title'].isnull()) | (df1['title']=='')) & ((df1['contentScore'] >= 0.01)| (df1['content'].isnull()) | (df1['content']=='')) & (df1['allScore'] >= 0.2)]\n",
    "df2"
   ]
  },
  {
   "cell_type": "code",
   "execution_count": 87,
   "metadata": {},
   "outputs": [
    {
     "output_type": "execute_result",
     "data": {
      "text/plain": "'https://au.lifestyle.yahoo.com/covid-hospitalisation-aishwarya-rai-bachchan-daughter-040900950.html'"
     },
     "metadata": {},
     "execution_count": 87
    }
   ],
   "source": [
    "df2['url'][10]"
   ]
  },
  {
   "cell_type": "code",
   "execution_count": null,
   "metadata": {},
   "outputs": [],
   "source": []
  }
 ],
 "metadata": {
  "language_info": {
   "codemirror_mode": {
    "name": "ipython",
    "version": 3
   },
   "file_extension": ".py",
   "mimetype": "text/x-python",
   "name": "python",
   "nbconvert_exporter": "python",
   "pygments_lexer": "ipython3",
   "version": 3
  },
  "orig_nbformat": 2,
  "kernelspec": {
   "name": "python_defaultSpec_1595084275277",
   "display_name": "Python 3.7.3 64-bit"
  }
 },
 "nbformat": 4,
 "nbformat_minor": 2
}