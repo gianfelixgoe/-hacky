{
 "cells": [
  {
   "cell_type": "code",
   "execution_count": 1,
   "metadata": {},
   "outputs": [],
   "source": [
    "import requests"
   ]
  },
  {
   "cell_type": "code",
   "execution_count": 9,
   "metadata": {},
   "outputs": [],
   "source": [
    "url0 = ('http://newsapi.org/v2/everything?'\n",
    "       'q=Good News&'\n",
    "       'from=2020-07-18&'\n",
    "       'pageSize=100&'\n",
    "       'sortBy=popularity&'\n",
    "       'apiKey=7cbc46d369ec49efba7d4e1bd3df8b1a')\n",
    "\n",
    "response0 = requests.get(url0)\n",
    "\n"
   ]
  },
  {
   "cell_type": "code",
   "execution_count": 14,
   "metadata": {},
   "outputs": [],
   "source": [
    "from textblob import TextBlob\n",
    "\n",
    "def print_title_description(response, num):\n",
    "    i = 0\n",
    "    max_score = 0\n",
    "    str_save = \"\"\n",
    "    while i < len(response.json()['articles']):\n",
    "        #article_dict['content']\n",
    "        article_dict = response.json()['articles'][i]\n",
    "        text_to_be_analysed = article_dict['title'] + \". \" +article_dict['description']\n",
    "        \n",
    "        blob = TextBlob(text_to_be_analysed)\n",
    "        \n",
    "        score = blob.sentiment.polarity\n",
    "        if score >= num:\n",
    "        \n",
    "            print(article_dict)\n",
    "            print(\"\")\n",
    "            print(text_to_be_analysed)\n",
    "            print(\"Score: \" + str(score))\n",
    "            print(\"\")\n",
    "        i += 1\n"
   ]
  },
  {
   "cell_type": "code",
   "execution_count": 31,
   "metadata": {},
   "outputs": [],
   "source": [
    "def print_score_with_content(response, num):\n",
    "    i = 0\n",
    "    max_score = 0\n",
    "    str_save = \"\"\n",
    "    while i < len(response.json()['articles']):\n",
    "        #\n",
    "        article_dict = response.json()['articles'][i]\n",
    "        text_to_be_analysed = article_dict['title'] + \". \" +article_dict['description']\n",
    "        if (article_dict['content'] != None):\n",
    "            text_to_be_analysed = text_to_be_analysed+ \". \" + article_dict['content']\n",
    "        \n",
    "        blob = TextBlob(text_to_be_analysed)\n",
    "        \n",
    "        score = blob.sentiment.polarity\n",
    "        if score >= num:\n",
    "        \n",
    "            print(article_dict)\n",
    "            print(\"\")\n",
    "            print(text_to_be_analysed)\n",
    "            print(\"Score: \" + str(score))\n",
    "            print(\"\")\n",
    "        i += 1\n"
   ]
  },
  {
   "cell_type": "code",
   "execution_count": 51,
   "metadata": {},
   "outputs": [],
   "source": [
    "def print_seperate_scores(response, num):\n",
    "    i = 0\n",
    "    max_score = 0\n",
    "    str_save = \"\"\n",
    "    while i < len(response.json()['articles']):\n",
    "        \n",
    "        article_dict = response.json()['articles'][i]\n",
    "        text_to_be_analysed = article_dict['title']\n",
    "        blob = TextBlob(text_to_be_analysed)\n",
    "        score_title = blob.sentiment.polarity\n",
    "        if (article_dict['description'] != None):\n",
    "            text_to_be_analysed = text_to_be_analysed+ \". \" + article_dict['description']\n",
    "            blob = TextBlob(article_dict['description'])\n",
    "            score_desc = blob.sentiment.polarity\n",
    "        if (article_dict['content'] != None):\n",
    "            text_to_be_analysed = text_to_be_analysed+ \". \" + article_dict['content']\n",
    "            blob = TextBlob(article_dict['content'])\n",
    "            score_content = blob.sentiment.polarity\n",
    "        blob = TextBlob(text_to_be_analysed)\n",
    "        score_all = blob.sentiment.polarity\n",
    "\n",
    "\n",
    "        if score_all >= num or score_title >= num or score_desc >= num or score_content >= num:\n",
    "            #print(article_dict)\n",
    "            print(\"\")\n",
    "            \n",
    "            \n",
    "            print(\"Score (All): \" + str(score_all))\n",
    "            print(\"\")\n",
    "            print(\"Text (title): \"+ article_dict['title'])\n",
    "            print(\"Score (title): \" + str(score_title))\n",
    "            if (article_dict['description'] != None):\n",
    "                print(\"\")\n",
    "                print(\"Text (desc): \"+ article_dict['description'])\n",
    "                print(\"Score (desc): \" + str(score_desc))\n",
    "            if (article_dict['content'] != None):\n",
    "                print(\"\")\n",
    "                print(\"Text (content): \"+ article_dict['content'])\n",
    "                print(\"Score (content): \" + str(score_content))\n",
    "            print(\"\")\n",
    "        i += 1"
   ]
  },
  {
   "cell_type": "code",
   "execution_count": 39,
   "metadata": {
    "tags": []
   },
   "outputs": [
    {
     "output_type": "stream",
     "name": "stdout",
     "text": "{'source': {'id': 'cbc-news', 'name': 'CBC News'}, 'author': 'Ania Bessonov', 'title': 'Do masks reduce your oxygen levels? Your COVID-19 questions answered', 'description': \"We're answering your questions about the pandemic. Send yours to COVID@cbc.ca and we’ll answer as many as we can. We’ll publish a selection of answers every weekday online, and also put some questions to the experts during The National and on CBC News Network.\", 'url': 'https://www.cbc.ca/news/health/masks-oxygen-covid-questions-answered-1.5653404', 'urlToImage': 'https://i.cbc.ca/1.5646989.1594584483!/fileImage/httpImage/image.jpg_gen/derivatives/16x9_620/virus-outbreak-florida.jpg', 'publishedAt': '2020-07-18T08:00:00Z', 'content': \"We're breaking down what you need to know about the pandemic. Send us your questions via email at COVID@cbc.ca and we'll answer as many as we can. We'll publish a selection of answers every weekday o… [+5882 chars]\"}\n\nDo masks reduce your oxygen levels? Your COVID-19 questions answered. We're answering your questions about the pandemic. Send yours to COVID@cbc.ca and we’ll answer as many as we can. We’ll publish a selection of answers every weekday online, and also put some questions to the experts during The National and on CBC News Network.\nScore: 0.5\n\n{'source': {'id': None, 'name': 'Vulture'}, 'author': 'Halle Kiefer', 'title': 'Rosario Dawson’s Briarpatch Uprooted After One Season', 'description': 'Creator Andy Greenwald says the series had an “amazing story” planned for season two.', 'url': 'http://www.vulture.com/2020/07/rosario-dawsons-briarpatch-canceled-by-usa-after-one-season.html', 'urlToImage': 'https://pyxis.nymag.com/v1/imgs/3a4/67c/ab011e3f2f8805ced6ebc873c996bfff87-17-Briarpatch-USA-Network.1x.rsocial.w1200.jpg', 'publishedAt': '2020-07-18T02:26:57Z', 'content': 'If youve been in the mood for a surreal Texan murder mystery starring Rosario Dawson, executive produced by Sam Esmail, and featuring Alan Cumming and at least one giraffe, well, weve got some good n… [+965 chars]'}\n\nRosario Dawson’s Briarpatch Uprooted After One Season. Creator Andy Greenwald says the series had an “amazing story” planned for season two.\nScore: 0.6000000000000001\n\n"
    }
   ],
   "source": [
    "print_title_description(response0, 0.5)"
   ]
  },
  {
   "cell_type": "code",
   "execution_count": 52,
   "metadata": {
    "tags": []
   },
   "outputs": [
    {
     "output_type": "stream",
     "name": "stdout",
     "text": "\nScore (All): 0.3607142857142857\n\nText (title): 3 Key Signs More Stimulus Money Is on the Way in Late July\nScore (title): 0.06666666666666667\n\nText (desc): There's good news for those hoping for more stimulus money!\nScore (desc): 0.6625\n\nText (content): The IRS has sent out more than $269 billion in coronavirus stimulus money , but this cash was just a drop in the bucket for most Americans, who are now facing a recession with the unemployment rate a… [+5489 chars]\nScore (content): 0.5\n\n\nScore (All): 0.3088888888888889\n\nText (title): Better Buy: Rite Aid vs. Walgreens\nScore (title): 0.5\n\nText (desc): Given the economic and market conditions caused by the coronavirus pandemic, which pharmacy retailer should you invest in today?\nScore (desc): 0.2\n\nText (content): Investing in pharmacy retailers is a relatively safe play these days. Even if states shut most businesses down in an effort to stop the spread of COVID-19, companies like Rite Aid (NYSE:RAD) and Walg… [+4844 chars]\nScore (content): 0.2814814814814815\n\n\nScore (All): 0.0625\n\nText (title): John Lewis Remembered: Ava DuVernay, Bill Clinton, Bernice King & More Mourn The “Conscience of Congress”\nScore (title): 0.5\n\nText (desc): Presidents, Oscar nominees, the daughter of Dr. Martin Luther King Jr and other admirers tonight mourned the death of Rep. John Lewis, while also celebrating the tireless fight for justice that the civil rights icon who was later in life called the “conscienc…\nScore (desc): -0.0625\n\nText (content): Presidents, Oscar nominees, the daughter of Dr. Martin Luther King Jr and other admirers tonight mourned the death of Rep. John Lewis, while also celebrating the tireless fight for justice that the c… [+4545 chars]\nScore (content): -0.125\n\n\nScore (All): 0.1361111111111111\n\nText (title): Advice From Wise Elders About Navigating the Pandemic\nScore (title): 0.7\n\nText (desc): A collection of sage advice from spiritual teachers and philosophers about how to steer our way through the pandemic with grace and grit\nScore (desc): 0.0\n\nText (content): At the start of the pandemic, I had a dream in which I was on a big yacht sailing across the Atlantic when it broke down in mid-ocean. A helicopter was dispatched to rescue us, and it was piloted by … [+10045 chars]\nScore (content): -0.07777777777777779\n\n\nScore (All): 0.2814814814814815\n\nText (title): Do masks reduce your oxygen levels? Your COVID-19 questions answered\nScore (title): 0.0\n\nText (desc): We're answering your questions about the pandemic. Send yours to COVID@cbc.ca and we’ll answer as many as we can. We’ll publish a selection of answers every weekday online, and also put some questions to the experts during The National and on CBC News Network.\nScore (desc): 0.5\n\nText (content): We're breaking down what you need to know about the pandemic. Send us your questions via email at COVID@cbc.ca and we'll answer as many as we can. We'll publish a selection of answers every weekday o… [+5882 chars]\nScore (content): 0.17222222222222222\n\n\nScore (All): 0.4199494949494949\n\nText (title): Meet Thryve: The Future Of Personalized Beauty, Healthcare And Body Awareness\nScore (title): 0.0\n\nText (desc): I believe wholeheartedly that now matter how successful you are, borders on how well you live your life. These days, and for good reason, the fashion world has a strong focus on beauty, healthy and wellness. If applied in a balanced format, all three will liv…\nScore (desc): 0.5039393939393939\n\nText (content): PARIS, FRANCE - MARCH 07: A model, beauty detail, walks the runway during the Chanel show as part ... [+] of the Paris Fashion Week Womenswear Fall/Winter 2017/2018 on March 7, 2017 in Paris, France.… [+15764 chars]\nScore (content): 0.0\n\n\nScore (All): 0.45\n\nText (title): $49 Or $399 Massage Gun? Theragun Versus The Cheap Chinese Copies\nScore (title): 0.2\n\nText (desc): How does a $49 massager compare to one that costs $399? Therabody's Thergaun Elite goes head-to-head with two low-cost massager guns.\nScore (desc): 0.0\n\nText (content): The Theragun Elite head-to-head with two cheap massage guns\nAndrew Williams\nExercise is perhaps the best way to regulate your mood at the moment, and a massage gun can speed up your muscles recover… [+11403 chars]\nScore (content): 0.7\n\n\nScore (All): 0.475\n\nText (title): John R. Lewis, front-line civil rights leader and eminence of Capitol Hill, dies at 80 - The Washington Post\nScore (title): 0.0\n\nText (desc): John R. Lewis, front-line civil rights leader and eminence of Capitol Hill, dies at 80  The Washington PostView Full Coverage on Google News\nScore (desc): 0.35\n\nText (content): Mr. Lewis, a Georgia Democrat, announced his diagnosis of pancreatic cancer on Dec. 29 and said he planned to continue working amid treatment. I have been in some kind of fight for freedom, equality,… [+18828 chars]\nScore (content): 0.6\n\n\nScore (All): 0.10714285714285714\n\nText (title): Civil rights icon John Lewis remembered as \"one of the greatest heroes of American history\"\nScore (title): 0.5\n\nText (desc): The death on Friday of civil rights icon Rep. John Lewis (D-Ga.) at age 80 has triggered an outpouring of tributes from lawmakers on both sides sides of the political aisle and other leading figures.What they're saying: Former President Bill Clinton tweeted e…\nScore (desc): -0.041666666666666664\n\nText (content): The death on Friday of civil rights icon Rep. John Lewis (D-Ga.) at age 80 has triggered an outpouring of tributes from lawmakers on both sides sides of the political aisle and other leading figures.… [+2459 chars]\nScore (content): -0.0625\n\n\nScore (All): 0.14545454545454545\n\nText (title): John Lewis, US civil rights hero and Democratic congressman, dies at 80 - The Guardian\nScore (title): 0.0\n\nText (desc): <ol><li>John Lewis, US civil rights hero and Democratic congressman, dies at 80  The Guardian\n</li><li>Civil rights legend Rep. John Lewis dead at 80  CNN\n</li><li>John Lewis, Towering Figure of Civil Rights Era, Dies at 80  The New York Times\n</li><li>The…\nScore (desc): -0.03181818181818183\n\nText (content): John Lewis, the civil rights hero and US Democratic congressman, has died at the age of 80.\nLewis, who was born on 21 February 1940 in Alabama, became a prominent leader of the civil rights movement… [+3611 chars]\nScore (content): 0.5\n\n\nScore (All): 0.5833333333333334\n\nText (title): #BLM and Climate Justice Join Forces, the Arctic Heats, and COVID-19 Gear Fills Oceans\nScore (title): 0.0\n\nText (desc): News to know in our BI-weekly digest.\nThe post #BLM and Climate Justice Join Forces, the Arctic Heats, and COVID-19 Gear Fills Oceans appeared first on The Good Men Project.\nScore (desc): 0.475\n\nText (content): By Ming Chun Tang\nWelcome to the Landscape News bi-weekly digest on landscapes, climate and sustainability. From whats on your shelves to whats in the atmosphere, heres the news to know.\nLANDSCAPE … [+3919 chars]\nScore (content): 0.8\n\n\nScore (All): 0.8\n\nText (title): Arsenal vs Man City predicted line-ups: Team news ahead of FA Cup semi-final tonight\nScore (title): 0.0\n\nText (desc): Everything you need to know ahead of tonight's tie\nScore (desc): 0.0\n\nText (content): Arsenal welcome holders Manchester City to the Emirates this evening in the FA Cup semi-finals. \nMikel Arteta's side are riding a wave of positivity after a surprise victory over champions Liverpool… [+1467 chars]\nScore (content): 0.8\n\n\nScore (All): 0.525\n\nText (title): Arsenal vs Man City prediction: How will FA Cup semi-final play out tonight?\nScore (title): 0.0\n\nText (desc): Everything you need to know ahead of tonight's tie\nScore (desc): 0.0\n\nText (content): Arsenal take on holders Manchester City in the semi-finals of the FA Cup this evening. \nMikel Arteta is seeking to win the first trophy of his managerial career, but faces an uphill task against his… [+1912 chars]\nScore (content): 0.525\n\n\nScore (All): 0.1\n\nText (title): Ahmad Mortazavi Is The Executive Chairman of e-therapeutics plc (LON:ETX) And They Just Picked Up 3.4% More Shares\nScore (title): 0.5\n\nText (desc): Potential e-therapeutics plc (LON:ETX) shareholders may wish to note that the Executive Chairman, Ahmad Mortazavi...\nScore (desc): 0.0\n\nText (content): Want to participate in a short research study? Help shape the future of investing tools and earn a $40 gift card!\nPotential e-therapeutics plc (LON:ETX) shareholders may wish to note that the Execut… [+3556 chars]\nScore (content): 0.0\n\n\nScore (All): 0.3333333333333333\n\nText (title): 'We have lost a giant': Reaction to death of Congressman John Lewis\nScore (title): 0.0\n\nText (desc): House Speaker Nancy Pelosi released a statement Friday, saying, “Today, America mourns the loss of one of the greatest heroes of American history.\"\nScore (desc): 0.5\n\nText (content): WASHINGTON  Lawmakers and organizations reacted Friday night to news that Rep. John R. Lewis, D-GA., the civil rights icon whose fight for racial justice began in the Jim Crow south and ended in the … [+7142 chars]\nScore (content): 0.0\n\n\nScore (All): 0.3\n\nText (title): Mahmud Kamani Is The Co-Founder & Group Executive Chairman of boohoo group plc (LON:BOO) And They Just Picked Up 2.5% More Shares\nScore (title): 0.5\n\nText (desc): boohoo group plc (LON:BOO) shareholders (or potential shareholders) will be happy to see that the Co-Founder & Group...\nScore (desc): 0.4\n\nText (content): Want to participate in a short research study? Help shape the future of investing tools and earn a $40 gift card!\nboohoo group plc (LON:BOO) shareholders (or potential shareholders) will be happy to… [+3420 chars]\nScore (content): 0.2\n\n\nScore (All): 0.5333333333333334\n\nText (title): Stuck With Coal Pits the World Needs, But Few Want\nScore (title): -0.2\n\nText (desc): (Bloomberg) -- The Mt Arthur coal mine in Australia is one of the world’s best. It’s got plenty of reserves and the low-cost supplies produced there are easily shipped to Southeast Asia, where there’s insatiable appetite for the fuel.Yet owner BHP Group has a…\nScore (desc): 0.7166666666666667\n\nText (content): (Bloomberg) -- The Mt Arthur coal mine in Australia is one of the worlds best. Its got plenty of reserves and the low-cost supplies produced there are easily shipped to Southeast Asia, where theres i… [+5993 chars]\nScore (content): 0.7166666666666667\n\n\nScore (All): 0.3125\n\nText (title): Rosario Dawson’s Briarpatch Uprooted After One Season\nScore (title): 0.0\n\nText (desc): Creator Andy Greenwald says the series had an “amazing story” planned for season two.\nScore (desc): 0.6000000000000001\n\nText (content): If youve been in the mood for a surreal Texan murder mystery starring Rosario Dawson, executive produced by Sam Esmail, and featuring Alan Cumming and at least one giraffe, well, weve got some good n… [+965 chars]\nScore (content): 0.21666666666666665\n\n\nScore (All): 0.35714285714285715\n\nText (title): Jayson Tatum: 'I step on the floor, I think I'm the best player every night'\nScore (title): 1.0\n\nText (desc): Talent is a big part of Jayson Tatum's success, but that talent seems to be fueled by a Teflon-strong brand of confidence, A. Sherrod Blakely writes.\nScore (desc): 0.15\n\nText (content): BOSTON -- When the NBA season was put on pause back in March, you could count the players on one hand who were playing better than Jayson Tatum. \nBut as good as Tatum was prior to the league's stopp… [+3843 chars]\nScore (content): 0.3\n\n"
    }
   ],
   "source": [
    "\n",
    "print_seperate_scores(response0, 0.5)"
   ]
  },
  {
   "cell_type": "code",
   "execution_count": 16,
   "metadata": {},
   "outputs": [],
   "source": [
    "url1 = ('http://newsapi.org/v2/everything?'\n",
    "       'q=+good&'\n",
    "       'from=2020-07-18&'\n",
    "       'pageSize=100&'\n",
    "       'sortBy=popularity&'\n",
    "       'apiKey=7cbc46d369ec49efba7d4e1bd3df8b1a')\n",
    "\n",
    "response1 = requests.get(url1)"
   ]
  },
  {
   "cell_type": "code",
   "execution_count": 21,
   "metadata": {
    "tags": []
   },
   "outputs": [
    {
     "output_type": "stream",
     "name": "stdout",
     "text": "{'source': {'id': 'reuters', 'name': 'Reuters'}, 'author': 'Reuters Editorial', 'title': 'NFL, union gear up for additional talks - Reuters', 'description': 'The NFL said in a statement issued Friday that progress has been made toward safely playing amid the coronavirus pandemic but acknowledged not all issues have been settled with the players union.', 'url': 'https://www.reuters.com/article/us-football-nfl-coronavirus-protocol-idUSKCN24I2XZ', 'urlToImage': 'https://s4.reutersmedia.net/resources_v2/images/rcom-default.png', 'publishedAt': '2020-07-18T00:04:00Z', 'content': 'The NFL said in a statement issued Friday that progress has been made toward safely playing amid the coronavirus pandemic but acknowledged not all issues have been settled with the players union. \\r\\n“… [+2920 chars]'}\n\nNFL, union gear up for additional talks - Reuters. The NFL said in a statement issued Friday that progress has been made toward safely playing amid the coronavirus pandemic but acknowledged not all issues have been settled with the players union.\nScore: 0.5\n\n"
    }
   ],
   "source": [
    "print_title_description(response1, 0.5)"
   ]
  },
  {
   "cell_type": "code",
   "execution_count": 53,
   "metadata": {
    "tags": []
   },
   "outputs": [
    {
     "output_type": "stream",
     "name": "stdout",
     "text": "\nScore (All): 0.38\n\nText (title): Researchers Created an App That Monitors Your Mental Health by Tracking Your Data\nScore (title): -0.1\n\nText (desc): Even though I appreciate that it’s for a good cause, this app still sounds like something out of Minority Report.Read more...\nScore (desc): 0.6\n\nText (content): Even though I appreciate that its for a good cause, this app still sounds like something out of Minority Report.\nResearchers at Dalhousie University in Canada have developed a smartphone app that tr… [+3784 chars]\nScore (content): 0.39999999999999997\n\n\nScore (All): 0.4327272727272728\n\nText (title): Develop an app from scratch with this impressive online course\nScore (title): 1.0\n\nText (desc): TL;DR: The Full Stack Web Development course is on sale for £18.32 as of July 18, saving you 77% on list price.\n\nIn the world of tech, full stack developers tend to sit at the top of the mountain — and for good reason. While most technical roles are highly sp…\nScore (desc): 0.3657142857142857\n\nText (content): TL;DR: The Full Stack Web Development course is on sale for £18.32 as of July 18, saving you 77% on list price.\nIn the world of tech, full stack developers tend to sit at the top of the mountain and… [+1445 chars]\nScore (content): 0.39999999999999997\n\n\nScore (All): 0.1954545454545455\n\nText (title): The surprising reason Lily Allen's 'Smile' went viral on TikTok\nScore (title): 0.5\n\nText (desc): TikTok users all over the globe are dancing like mad to Lily Allen's \"Smile,\" more than a decade after its release. \nThe breakup anthem is now part of a genuine dance trend after a TikTok user posted his jubilant choreography in response to the recent uptick …\nScore (desc): 0.11499999999999999\n\nText (content): TikTok users all over the globe are dancing like mad to Lily Allen's \"Smile,\" more than a decade after its release. \nThe breakup anthem is now part of a genuine dance trend after a TikTok user poste… [+3773 chars]\nScore (content): 0.14375\n\n\nScore (All): 0.09375\n\nText (title): Opinion: How Justin Trudeau's latest ethics scandal could spell the end of his career\nScore (title): 0.5\n\nText (desc): First there was the secretive trip to Bermuda in 2016 when Canadian Prime Minister Justin Trudeau and his family rode in a helicopter owned by the Aga Khan, the billionaire and Ismaili Muslim spiritual leader whose organization has received hundreds of millio…\nScore (desc): 0.125\n\nText (content): Michael Bociurkiw is a global affairs analyst, a former spokesman for the Organization for Security and Cooperation in Europe and host of the podcast Global Impact. He is currently based in British C… [+8362 chars]\nScore (content): 0.0\n\n\nScore (All): 0.35\n\nText (title): Get dirty at home: COVID-19 moves S.Korea's mud festival online - Reuters\nScore (title): -0.6\n\nText (desc): When a pandemic threatens a good romp in the mud, some South Koreans bring the mud home with them instead.\nScore (desc): 0.7\n\nText (content): SEOUL, July 18 (Reuters) - When a pandemic threatens a good romp in the mud, some South Koreans bring the mud home with them instead. \nThe popular Boryeong Mud Festival, halted this year because of … [+1510 chars]\nScore (content): 0.6499999999999999\n\n\nScore (All): 0.3111111111111111\n\nText (title): Tennis: Healthy competition key to Russian success, says Kafelnikov - Reuters\nScore (title): 0.2\n\nText (desc): Russians Daniil Medvedev, Andrey Rublev and Karen Khachanov are ranked in the top 15 of men's ATP Tour and the healthy competition between among the trio is helping them excel, according to their compatriot and former world number one Yevgeny Kafelnikov.\nScore (desc): 0.3333333333333333\n\nText (content): (Reuters) - Russians Daniil Medvedev, Andrey Rublev and Karen Khachanov are ranked in the top 15 of men’s ATP Tour and the healthy competition between among the trio is helping them excel, according … [+1541 chars]\nScore (content): 0.5\n\n\nScore (All): 0.5\n\nText (title): NFL, union gear up for additional talks - Reuters\nScore (title): 0.0\n\nText (desc): The NFL said in a statement issued Friday that progress has been made toward safely playing amid the coronavirus pandemic but acknowledged not all issues have been settled with the players union.\nScore (desc): 0.5\n\nText (content): The NFL said in a statement issued Friday that progress has been made toward safely playing amid the coronavirus pandemic but acknowledged not all issues have been settled with the players union. \n“… [+2920 chars]\nScore (content): 0.5\n\n\nScore (All): 0.4571428571428572\n\nText (title): Henry Cavill's good, but he's got nothing on these five celebrity PC builds\nScore (title): 0.7\n\nText (desc): Lovable television strongman Henry Cavill overclocked hearts around the world when he documented his latest PC build on Instagram this week, reminding us all once again that even Hollywood A-listers with inhuman physiques can turn out to be giant, lovable ner…\nScore (desc): 0.375\n\nText (content): Lovable television strongman Henry Cavill overclocked hearts around the world when he documented his latest PC build on Instagram this week, reminding us all once again that even Hollywood A-listers … [+6455 chars]\nScore (content): 0.5\n\n\nScore (All): 0.27999999999999997\n\nText (title): The Week in Review - The Most Popular Posts\nScore (title): 0.55\n\nText (desc): Good morning from Maine where the temperature only reached 62F yesterday, but today is supposed to reach 90! These wild fluctuations in summer weather is something I'm just putting into a mental...Read the whole entry at FreeTech4Teachers.com »\n             …\nScore (desc): 0.25\n\nText (content): Good morning from Maine where the temperature only reached 62F yesterday, but today is supposed to reach 90! These wild fluctuations in summer weather is something I'm just putting into a mental cate… [+2003 chars]\nScore (content): 0.175\n\n\nScore (All): 0.30995670995671\n\nText (title): Under-23 NBA Prospects With the Most to Prove in Orlando\nScore (title): 0.5\n\nText (desc): Even without fans inside the NBA bubble, the spotlight might feel just as bright to this batch of under-23 ballers.   Each has a tremendous amount to prove for different reasons, which we'll get into later...\nScore (desc): 0.25833333333333336\n\nText (content): Michael Conroy/Associated Press\nYear three has undeniably been a breakout campaign for Lonzo Ball.\nSomething about the New Orleans Pelicans fits him better than the Los Angeles Lakers ever did, and… [+1571 chars]\nScore (content): 0.3181818181818182\n\n\nScore (All): 0.22321428571428573\n\nText (title): B/R Staff Roundtable: Predictions for Every Major NBA Award\nScore (title): 0.0625\n\nText (desc): Selecting the 2019-20  NBA  regular-season award winners with nearly 100 regular \"seeding\" games spread across 22 teams remaining may appear a bit unusual, but let's be real...\nScore (desc): 0.125\n\nText (content): Phelan M. Ebenhack/Associated Press\nThe 2019-20 Milwaukee Bucks have one of the most dominant defenses in NBA history, and Giannis Antetokounmpo is their most dominant and versatile defender. That's… [+1152 chars]\nScore (content): 0.5\n\n\nScore (All): 0.3875\n\nText (title): LIQUID GOLD DRESSING\nScore (title): 0.0\n\nText (desc): Liquid gold dressing is a major flavour bomb that will enhance pretty much anything. Naturally great on salads, but also good for grain bowls and slaw.\nThe post LIQUID GOLD DRESSING appeared first on The First Mess // Plant-Based Recipes + Photography by Laur…\nScore (desc): 0.29218750000000004\n\nText (content): pin it!pin it!\nThis liquid gold dressing is an updated version of one that I’ve been making forever. The original even appears in my cookbook! It is honestly perfect on so many things: salads (obvio… [+4047 chars]\nScore (content): 0.65625\n\n\nScore (All): 0.3607142857142857\n\nText (title): 3 Key Signs More Stimulus Money Is on the Way in Late July\nScore (title): 0.06666666666666667\n\nText (desc): There's good news for those hoping for more stimulus money!\nScore (desc): 0.6625\n\nText (content): The IRS has sent out more than $269 billion in coronavirus stimulus money , but this cash was just a drop in the bucket for most Americans, who are now facing a recession with the unemployment rate a… [+5489 chars]\nScore (content): 0.5\n\n\nScore (All): 0.2904761904761905\n\nText (title): 4 Factors in Determining Your Ideal Retirement Age\nScore (title): 0.9\n\nText (desc): Eager to turn in your final resignation letter and get away from work stress for good? Not so fast. Look beyond your level of job satisfaction to set the timing of your retirement.\nScore (desc): 0.3\n\nText (content): What's your ideal retirement age?\nThere's no quick way to answer that, unfortunately. Whether you can't wait to eliminate work stress from your life or you never want to leave your post at the offic… [+4647 chars]\nScore (content): 0.07777777777777779\n\n\nScore (All): 0.3088888888888889\n\nText (title): Better Buy: Rite Aid vs. Walgreens\nScore (title): 0.5\n\nText (desc): Given the economic and market conditions caused by the coronavirus pandemic, which pharmacy retailer should you invest in today?\nScore (desc): 0.2\n\nText (content): Investing in pharmacy retailers is a relatively safe play these days. Even if states shut most businesses down in an effort to stop the spread of COVID-19, companies like Rite Aid (NYSE:RAD) and Walg… [+4844 chars]\nScore (content): 0.2814814814814815\n\n"
    }
   ],
   "source": [
    "\n",
    "print_seperate_scores(response1, 0.5)"
   ]
  },
  {
   "cell_type": "code",
   "execution_count": 22,
   "metadata": {},
   "outputs": [],
   "source": [
    "url2 = ('http://newsapi.org/v2/everything?'\n",
    "       'q=+good&'\n",
    "       'from=2020-07-18&'\n",
    "       'pageSize=100&'\n",
    "       'sortBy=relevancy&'\n",
    "       'apiKey=7cbc46d369ec49efba7d4e1bd3df8b1a')\n",
    "\n",
    "response2 = requests.get(url2)"
   ]
  },
  {
   "cell_type": "code",
   "execution_count": 23,
   "metadata": {
    "tags": []
   },
   "outputs": [
    {
     "output_type": "stream",
     "name": "stdout",
     "text": "{'source': {'id': 'reuters', 'name': 'Reuters'}, 'author': 'Reuters Editorial', 'title': 'NFL, union gear up for additional talks - Reuters', 'description': 'The NFL said in a statement issued Friday that progress has been made toward safely playing amid the coronavirus pandemic but acknowledged not all issues have been settled with the players union.', 'url': 'https://www.reuters.com/article/us-football-nfl-coronavirus-protocol-idUSKCN24I2XZ', 'urlToImage': 'https://s4.reutersmedia.net/resources_v2/images/rcom-default.png', 'publishedAt': '2020-07-18T00:04:00Z', 'content': 'The NFL said in a statement issued Friday that progress has been made toward safely playing amid the coronavirus pandemic but acknowledged not all issues have been settled with the players union. \\r\\n“… [+2920 chars]'}\n\nNFL, union gear up for additional talks - Reuters. The NFL said in a statement issued Friday that progress has been made toward safely playing amid the coronavirus pandemic but acknowledged not all issues have been settled with the players union.\nScore: 0.5\n\n{'source': {'id': None, 'name': 'Android Central'}, 'author': 'Jerry Hildenbrand', 'title': 'A little bit of Samsung makes every phone better', 'description': \"Samsung doesn't need to sell its own phones to have a huge presence in mobile because all the best phones use Samsung parts.\\n\\nHappy Saturday, Android fans. I hope everyone is being safe and healthy and looking at a gorgeous Samsung display reading things on t…\", 'url': 'https://www.androidcentral.com/little-bit-samsung-makes-every-phone-better', 'urlToImage': 'https://www.androidcentral.com/sites/androidcentral.com/files/styles/large/public/article_images/2020/02/samsung-galaxy-s10-lite-review-4.jpg', 'publishedAt': '2020-07-18T12:00:03Z', 'content': 'Source: Jerry Hildenbrand / Android Central\\r\\nHappy Saturday, Android fans. I hope everyone is being safe and healthy and looking at a gorgeous Samsung display reading things on the internet while dre… [+4658 chars]'}\n\nA little bit of Samsung makes every phone better. Samsung doesn't need to sell its own phones to have a huge presence in mobile because all the best phones use Samsung parts.\n\nHappy Saturday, Android fans. I hope everyone is being safe and healthy and looking at a gorgeous Samsung display reading things on t…\nScore: 0.5347222222222222\n\n{'source': {'id': None, 'name': 'Telegraph.co.uk'}, 'author': 'Jean Hwang Carrant', 'title': 'Pistachio cookies recipe', 'description': 'These taste every bit as good as they look.', 'url': 'https://www.telegraph.co.uk/recipes/0/pistachio-cookies-recipe/', 'urlToImage': 'https://www.telegraph.co.uk/content/dam/recipes/2020/07/16/pistachio_trans_NvBQzQNjv4BqWJNDdnAmnteN_hL27cDAXQiW0iySKdt68907xxCCb7o.png?impolicy=logo-overlay', 'publishedAt': '2020-07-18T05:00:00Z', 'content': 'These taste every bit as good\\xa0as they look.\\r\\nPrep time: 10 minutes\\xa0|\\xa0Cooking time:\\xa010 minutes\\r\\nMAKES\\r\\n25 cookies\\r\\nINGREDIENTS\\r\\n<ul><li>225g slightly salted butter, at room temperature</li><li>100g pi… [+815 chars]'}\n\nPistachio cookies recipe. These taste every bit as good as they look.\nScore: 0.7\n\n{'source': {'id': None, 'name': 'Howsweeteats.com'}, 'author': 'Jessica', 'title': 'Currently Crushing On.', 'description': 'Hello hello! This week on the blog, we kicked things off with this amazing potato chip frittata. It’s so good! I also shared this grilled prosciutto wrapped peach salad and no churn coffee oreo ice cream. A new summer fridays post is up too! And of course, he…', 'url': 'https://www.howsweeteats.com/2020/07/currently-crushing-on-333/', 'urlToImage': 'https://www.howsweeteats.com/wp-content/uploads/2020/07/SAM_4848-660x990.jpg', 'publishedAt': '2020-07-18T10:45:56Z', 'content': None}\n\nCurrently Crushing On.. Hello hello! This week on the blog, we kicked things off with this amazing potato chip frittata. It’s so good! I also shared this grilled prosciutto wrapped peach salad and no churn coffee oreo ice cream. A new summer fridays post is up too! And of course, he…\nScore: 0.5363636363636364\n\n{'source': {'id': None, 'name': 'Visual.ly'}, 'author': 'ethosglobal11', 'title': 'ORM: Online Reputation Management & its process', 'description': 'ORM is an a ongoing process that serves to create , monitor, and maintain your brand name and its good online presence.', 'url': 'https://visual.ly/community/Infographics/computers/orm-online-reputation-management-its-process', 'urlToImage': 'https://thumbnails-visually.netdna-ssl.com/orm-online-reputation-management--its-process_5f12cf166ec5c_w250_h250.png', 'publishedAt': '2020-07-18T10:29:41Z', 'content': 'ETHOS GLOBAL SOLUTIONS IMAGEIS EVERYTHING Process Of ORM ONLINE REPUTON MNAGMENT IS AN ONGOING TASK THAT SERVES TO CREATE, MONITOR, AND II YOUR BRAND NAM ND ITS GOOD STANDING ONLINE. ITS MAIN AIM IS … [+463 chars]'}\n\nORM: Online Reputation Management & its process. ORM is an a ongoing process that serves to create , monitor, and maintain your brand name and its good online presence.\nScore: 0.7\n\n"
    }
   ],
   "source": [
    "print_title_description(response2, 0.5)"
   ]
  },
  {
   "cell_type": "code",
   "execution_count": 54,
   "metadata": {
    "tags": []
   },
   "outputs": [
    {
     "output_type": "stream",
     "name": "stdout",
     "text": "\nScore (All): 0.38\n\nText (title): Researchers Created an App That Monitors Your Mental Health by Tracking Your Data\nScore (title): -0.1\n\nText (desc): Even though I appreciate that it’s for a good cause, this app still sounds like something out of Minority Report.Read more...\nScore (desc): 0.6\n\nText (content): Even though I appreciate that its for a good cause, this app still sounds like something out of Minority Report.\nResearchers at Dalhousie University in Canada have developed a smartphone app that tr… [+3784 chars]\nScore (content): 0.39999999999999997\n\n\nScore (All): 0.35\n\nText (title): Get dirty at home: COVID-19 moves S.Korea's mud festival online - Reuters\nScore (title): -0.6\n\nText (desc): When a pandemic threatens a good romp in the mud, some South Koreans bring the mud home with them instead.\nScore (desc): 0.7\n\nText (content): SEOUL, July 18 (Reuters) - When a pandemic threatens a good romp in the mud, some South Koreans bring the mud home with them instead. \nThe popular Boryeong Mud Festival, halted this year because of … [+1510 chars]\nScore (content): 0.6499999999999999\n\n\nScore (All): 0.4327272727272728\n\nText (title): Develop an app from scratch with this impressive online course\nScore (title): 1.0\n\nText (desc): TL;DR: The Full Stack Web Development course is on sale for £18.32 as of July 18, saving you 77% on list price.\n\nIn the world of tech, full stack developers tend to sit at the top of the mountain — and for good reason. While most technical roles are highly sp…\nScore (desc): 0.3657142857142857\n\nText (content): TL;DR: The Full Stack Web Development course is on sale for £18.32 as of July 18, saving you 77% on list price.\nIn the world of tech, full stack developers tend to sit at the top of the mountain and… [+1445 chars]\nScore (content): 0.39999999999999997\n\n\nScore (All): 0.1954545454545455\n\nText (title): The surprising reason Lily Allen's 'Smile' went viral on TikTok\nScore (title): 0.5\n\nText (desc): TikTok users all over the globe are dancing like mad to Lily Allen's \"Smile,\" more than a decade after its release. \nThe breakup anthem is now part of a genuine dance trend after a TikTok user posted his jubilant choreography in response to the recent uptick …\nScore (desc): 0.11499999999999999\n\nText (content): TikTok users all over the globe are dancing like mad to Lily Allen's \"Smile,\" more than a decade after its release. \nThe breakup anthem is now part of a genuine dance trend after a TikTok user poste… [+3773 chars]\nScore (content): 0.14375\n\n\nScore (All): 0.4571428571428572\n\nText (title): Henry Cavill's good, but he's got nothing on these five celebrity PC builds\nScore (title): 0.7\n\nText (desc): Lovable television strongman Henry Cavill overclocked hearts around the world when he documented his latest PC build on Instagram this week, reminding us all once again that even Hollywood A-listers with inhuman physiques can turn out to be giant, lovable ner…\nScore (desc): 0.375\n\nText (content): Lovable television strongman Henry Cavill overclocked hearts around the world when he documented his latest PC build on Instagram this week, reminding us all once again that even Hollywood A-listers … [+6455 chars]\nScore (content): 0.5\n\n\nScore (All): 0.27454545454545454\n\nText (title): Volunteers needed for new COVID-19 vaccine tests - azfamily powered by 3TV & CBS5AZ\nScore (title): 0.13636363636363635\n\nText (desc): <ol><li>Volunteers needed for new COVID-19 vaccine tests  azfamily powered by 3TV & CBS5AZ\n</li><li>Human challenge trials are a fast way to see if a coronavirus vaccine works. But are they ethical?  Globalnews.ca\n</li><li>Commentary: How 'good' does a COVI…\nScore (desc): 0.3090909090909091\n\n\nScore (All): 0.3111111111111111\n\nText (title): Tennis: Healthy competition key to Russian success, says Kafelnikov - Reuters\nScore (title): 0.2\n\nText (desc): Russians Daniil Medvedev, Andrey Rublev and Karen Khachanov are ranked in the top 15 of men's ATP Tour and the healthy competition between among the trio is helping them excel, according to their compatriot and former world number one Yevgeny Kafelnikov.\nScore (desc): 0.3333333333333333\n\nText (content): (Reuters) - Russians Daniil Medvedev, Andrey Rublev and Karen Khachanov are ranked in the top 15 of men’s ATP Tour and the healthy competition between among the trio is helping them excel, according … [+1541 chars]\nScore (content): 0.5\n\n\nScore (All): 0.5\n\nText (title): NFL, union gear up for additional talks - Reuters\nScore (title): 0.0\n\nText (desc): The NFL said in a statement issued Friday that progress has been made toward safely playing amid the coronavirus pandemic but acknowledged not all issues have been settled with the players union.\nScore (desc): 0.5\n\nText (content): The NFL said in a statement issued Friday that progress has been made toward safely playing amid the coronavirus pandemic but acknowledged not all issues have been settled with the players union. \n“… [+2920 chars]\nScore (content): 0.5\n\n\nScore (All): 0.5223214285714286\n\nText (title): A little bit of Samsung makes every phone better\nScore (title): 0.15625\n\nText (desc): Samsung doesn't need to sell its own phones to have a huge presence in mobile because all the best phones use Samsung parts.\n\nHappy Saturday, Android fans. I hope everyone is being safe and healthy and looking at a gorgeous Samsung display reading things on t…\nScore (desc): 0.6428571428571429\n\nText (content): Source: Jerry Hildenbrand / Android Central\nHappy Saturday, Android fans. I hope everyone is being safe and healthy and looking at a gorgeous Samsung display reading things on the internet while dre… [+4658 chars]\nScore (content): 0.5\n\n\nScore (All): 0.27999999999999997\n\nText (title): The Week in Review - The Most Popular Posts\nScore (title): 0.55\n\nText (desc): Good morning from Maine where the temperature only reached 62F yesterday, but today is supposed to reach 90! These wild fluctuations in summer weather is something I'm just putting into a mental...Read the whole entry at FreeTech4Teachers.com »\n             …\nScore (desc): 0.25\n\nText (content): Good morning from Maine where the temperature only reached 62F yesterday, but today is supposed to reach 90! These wild fluctuations in summer weather is something I'm just putting into a mental cate… [+2003 chars]\nScore (content): 0.175\n\n\nScore (All): 0.259375\n\nText (title): How Good Apologies Enhance Our Well-Being, From A Psychologist\nScore (title): 0.7\n\nText (desc): Apologies aren't just polite—they're important for our spiritual well-being\nScore (desc): 0.2\n\nText (content): A well-made apology enhances your spiritual well-being and potentially expands your range of humanness. In other words, by facing your own mistakes, you can find a greater sense of compassion for oth… [+2144 chars]\nScore (content): 0.195\n\n\nScore (All): 0.3607142857142857\n\nText (title): 3 Key Signs More Stimulus Money Is on the Way in Late July\nScore (title): 0.06666666666666667\n\nText (desc): There's good news for those hoping for more stimulus money!\nScore (desc): 0.6625\n\nText (content): The IRS has sent out more than $269 billion in coronavirus stimulus money , but this cash was just a drop in the bucket for most Americans, who are now facing a recession with the unemployment rate a… [+5489 chars]\nScore (content): 0.5\n\n\nScore (All): 0.32499999999999996\n\nText (title): Shiv Sena praises Devendra Fadnavis for doing 'good job' as Opposition leader\nScore (title): 0.7\n\nText (desc): The ruling party also said that as Fadnavis has expressed satisfaction over the public health machinery in the state in the fight against COVID-19, it has boosted the morale of the government and the coronavirus patients.\nScore (desc): 0.0\n\nText (content): MUMBAI: The Shiv Sena on Saturday praised BJP leader and former Maharashtra chief minister Devendra Fadnavis, saying that he has been effectively carrying out his role as a Leader of Opposition.\nThe… [+1380 chars]\nScore (content): 0.3\n\n\nScore (All): 0.2904761904761905\n\nText (title): 4 Factors in Determining Your Ideal Retirement Age\nScore (title): 0.9\n\nText (desc): Eager to turn in your final resignation letter and get away from work stress for good? Not so fast. Look beyond your level of job satisfaction to set the timing of your retirement.\nScore (desc): 0.3\n\nText (content): What's your ideal retirement age?\nThere's no quick way to answer that, unfortunately. Whether you can't wait to eliminate work stress from your life or you never want to leave your post at the offic… [+4647 chars]\nScore (content): 0.07777777777777779\n\n\nScore (All): 0.41111111111111104\n\nText (title): Pistachio cookies recipe\nScore (title): 0.0\n\nText (desc): These taste every bit as good as they look.\nScore (desc): 0.7\n\nText (content): These taste every bit as good as they look.\nPrep time: 10 minutes | Cooking time: 10 minutes\nMAKES\n25 cookies\nINGREDIENTS\n<ul><li>225g slightly salted butter, at room temperature</li><li>100g pi… [+815 chars]\nScore (content): 0.26666666666666666\n\n\nScore (All): 0.3875\n\nText (title): LIQUID GOLD DRESSING\nScore (title): 0.0\n\nText (desc): Liquid gold dressing is a major flavour bomb that will enhance pretty much anything. Naturally great on salads, but also good for grain bowls and slaw.\nThe post LIQUID GOLD DRESSING appeared first on The First Mess // Plant-Based Recipes + Photography by Laur…\nScore (desc): 0.29218750000000004\n\nText (content): pin it!pin it!\nThis liquid gold dressing is an updated version of one that I’ve been making forever. The original even appears in my cookbook! It is honestly perfect on so many things: salads (obvio… [+4047 chars]\nScore (content): 0.65625\n\n\nScore (All): 0.5363636363636364\n\nText (title): Currently Crushing On.\nScore (title): 0.4\n\nText (desc): Hello hello! This week on the blog, we kicked things off with this amazing potato chip frittata. It’s so good! I also shared this grilled prosciutto wrapped peach salad and no churn coffee oreo ice cream. A new summer fridays post is up too! And of course, he…\nScore (desc): 0.5484848484848485\n\n\nScore (All): 0.4199494949494949\n\nText (title): Meet Thryve: The Future Of Personalized Beauty, Healthcare And Body Awareness\nScore (title): 0.0\n\nText (desc): I believe wholeheartedly that now matter how successful you are, borders on how well you live your life. These days, and for good reason, the fashion world has a strong focus on beauty, healthy and wellness. If applied in a balanced format, all three will liv…\nScore (desc): 0.5039393939393939\n\nText (content): PARIS, FRANCE - MARCH 07: A model, beauty detail, walks the runway during the Chanel show as part ... [+] of the Paris Fashion Week Womenswear Fall/Winter 2017/2018 on March 7, 2017 in Paris, France.… [+15764 chars]\nScore (content): 0.0\n\n\nScore (All): 0.30995670995671\n\nText (title): Under-23 NBA Prospects With the Most to Prove in Orlando\nScore (title): 0.5\n\nText (desc): Even without fans inside the NBA bubble, the spotlight might feel just as bright to this batch of under-23 ballers.   Each has a tremendous amount to prove for different reasons, which we'll get into later...\nScore (desc): 0.25833333333333336\n\nText (content): Michael Conroy/Associated Press\nYear three has undeniably been a breakout campaign for Lonzo Ball.\nSomething about the New Orleans Pelicans fits him better than the Los Angeles Lakers ever did, and… [+1571 chars]\nScore (content): 0.3181818181818182\n\n\nScore (All): 0.39166666666666666\n\nText (title): ORM: Online Reputation Management & its process\nScore (title): 0.0\n\nText (desc): ORM is an a ongoing process that serves to create , monitor, and maintain your brand name and its good online presence.\nScore (desc): 0.7\n\nText (content): ETHOS GLOBAL SOLUTIONS IMAGEIS EVERYTHING Process Of ORM ONLINE REPUTON MNAGMENT IS AN ONGOING TASK THAT SERVES TO CREATE, MONITOR, AND II YOUR BRAND NAM ND ITS GOOD STANDING ONLINE. ITS MAIN AIM IS … [+463 chars]\nScore (content): 0.28888888888888886\n\n\nScore (All): 0.25555555555555554\n\nText (title): They’re so good at this\nScore (title): 0.7\n\nText (desc): Paycheck Don just won’t stop owning the libs: As President Donald Trump’s aides surveyed a virus-stricken political landscape earlier this summer, one area stuck out as a potential win: schools.Reopening them could allow parents to return to work, Trump’s adv…\nScore (desc): 0.2\n\nText (content): Paycheck Don just won’t stop owning the libs:\nAs President Donald Trump’s aides surveyed a virus-stricken political landscape earlier this summer, one area stuck out as a potential win: schools.Reop… [+1085 chars]\nScore (content): 0.2\n\n\nScore (All): 0.09375\n\nText (title): Opinion: How Justin Trudeau's latest ethics scandal could spell the end of his career\nScore (title): 0.5\n\nText (desc): First there was the secretive trip to Bermuda in 2016 when Canadian Prime Minister Justin Trudeau and his family rode in a helicopter owned by the Aga Khan, the billionaire and Ismaili Muslim spiritual leader whose organization has received hundreds of millio…\nScore (desc): 0.125\n\nText (content): Michael Bociurkiw is a global affairs analyst, a former spokesman for the Organization for Security and Cooperation in Europe and host of the podcast Global Impact. He is currently based in British C… [+8362 chars]\nScore (content): 0.0\n\n\nScore (All): 0.17777777777777776\n\nText (title): 'Get in good trouble, necessary trouble': Rep. John R. Lewis in his own words\nScore (title): 0.18\n\nText (desc): Devoting his life to racial justice and equity, Rep. John R. Lewis was an unmatched orator. Here are some of his most memorable quotes.\nScore (desc): 0.5\n\nText (content): Civil rights icon Rep. John R. Lewis, who devoted his life to racial justice and equity, died Friday night at 80. He revealed late last year that he was undergoing treatment for Stage IV pancreatic c… [+2243 chars]\nScore (content): -0.15\n\n"
    }
   ],
   "source": [
    "\n",
    "print_seperate_scores(response2, 0.5)"
   ]
  },
  {
   "cell_type": "code",
   "execution_count": 27,
   "metadata": {},
   "outputs": [],
   "source": [
    "url3 = ('http://newsapi.org/v2/top-headlines?'\n",
    "       'country=au&'\n",
    "       'from=2020-07-18&'\n",
    "       'category=entertainment&'\n",
    "       'pageSize=100&'\n",
    "       'sortBy=popularity&'\n",
    "       'apiKey=7cbc46d369ec49efba7d4e1bd3df8b1a')\n",
    "\n",
    "response3 = requests.get(url3)"
   ]
  },
  {
   "cell_type": "code",
   "execution_count": 28,
   "metadata": {
    "tags": []
   },
   "outputs": [
    {
     "output_type": "stream",
     "name": "stdout",
     "text": "{'source': {'id': None, 'name': 'Nine'}, 'author': 'Maddison Leach', 'title': 'Jacinda Ardern joins TikTok impersonator for hilarious parody video - 9Honey', 'description': '', 'url': 'https://honey.nine.com.au/latest/jacinda-ardern-tik-tok-impersonator/37ee0abe-c95b-4aa1-b7e3-8b00b3cc72cb', 'urlToImage': 'https://imageresizer.static9.net.au/sff6yYdXUdHbjDJY_YUZQlLfQ3g=/1200x628/smart/https%3A%2F%2Fprod.static9.net.au%2Ffs%2F4552b4dc-5426-4ae1-ab8e-21b55ae06363', 'publishedAt': '2020-07-18T01:48:00Z', 'content': 'Jacinda Ardern has teamed up with erm, herself, for her hilarious debut on video platform TikTok.\\r\\nThe Prime Minister of New Zealand is beloved for her personality as well as her policies, so it shou… [+2143 chars]'}\n\nJacinda Ardern joins TikTok impersonator for hilarious parody video - 9Honey. \nScore: 0.5\n\n{'source': {'id': None, 'name': 'Mamamia'}, 'author': 'Mamamia Team', 'title': '\"I get the irony.\" Chris Sebastian on stepping out of Guy\\'s shadow by going on The Voice. - Mamamia', 'description': 'Chris Sebastian The Voice: The irony of carving out his own identity on the show his  brother Guy Sebastian is a coach on is not lost on Chris Sebastian.', 'url': 'https://www.mamamia.com.au/chris-sebastian-the-voice/', 'urlToImage': 'https://storage.googleapis.com/mamamia-pwa.appspot.com/cms_images/variations/1201x628.7958115183247-141556455554.jpg', 'publishedAt': '2020-07-17T04:17:07Z', 'content': '\"It put this reignited fire in my belly, I can\\'t resign myself to the fact that I\\'m going to sing other people\\'s songs. I want to do this, and I can do this, and The Voice is the best way to make tha… [+1422 chars]'}\n\n\"I get the irony.\" Chris Sebastian on stepping out of Guy's shadow by going on The Voice. - Mamamia. Chris Sebastian The Voice: The irony of carving out his own identity on the show his  brother Guy Sebastian is a coach on is not lost on Chris Sebastian.\nScore: 0.6\n\n{'source': {'id': 'techradar', 'name': 'TechRadar'}, 'author': 'Stephen Lambrechts', 'title': 'Henry Cavill flexes his PC-building muscles in sexy Instagram vid - Techradar Australia', 'description': 'Toss a CPU to your Witcher', 'url': 'https://www.techradar.com/news/henry-cavill-flexes-his-pc-building-muscles-in-sexy-instagram-vid', 'urlToImage': 'https://cdn.mos.cms.futurecdn.net/3HUGcB4VzDGvfHRxPMQ2Qi-1200-80.jpg', 'publishedAt': '2020-07-17T02:11:00Z', 'content': 'Along with his on-screen heroics as both Superman and The Witcher, impossibly handsome actor Henry Cavill is also considered a hero among gamers the world over, thanks to his unabashed enthusiasm for… [+4205 chars]'}\n\nHenry Cavill flexes his PC-building muscles in sexy Instagram vid - Techradar Australia. Toss a CPU to your Witcher\nScore: 0.5\n\n{'source': {'id': None, 'name': 'Nine'}, 'author': 'Christine Estera', 'title': 'Ellen DeGeneres and Portia de Rossi mourn the loss of their beloved dog Wolf - 9TheFIX', 'description': '', 'url': 'https://celebrity.nine.com.au/latest/ellen-degeneres-portia-de-rossi-dog-wolf-dies/bc517143-4968-4194-889c-110096850dce', 'urlToImage': 'https://imageresizer.static9.net.au/CBE1oMv0UFMhELo8xC-A7dnsarw=/1200x628/smart/https%3A%2F%2Fprod.static9.net.au%2Ffs%2F89955837-f0c1-4bfb-8a79-19f6e8c78da6', 'publishedAt': '2020-07-16T21:56:00Z', 'content': \"Ellen DeGeneres is mourning the loss of her and wife Portia de Rossi's dog, Wolf.\\r\\nThe talk-show host shared her heartbreak with her 91 million Instagram followers on July 17 (US time) as she farewel… [+1424 chars]\"}\n\nEllen DeGeneres and Portia de Rossi mourn the loss of their beloved dog Wolf - 9TheFIX. \nScore: 0.7\n\n"
    }
   ],
   "source": [
    "print_title_description(response3, 0.5)"
   ]
  },
  {
   "cell_type": "code",
   "execution_count": 55,
   "metadata": {
    "tags": []
   },
   "outputs": [
    {
     "output_type": "stream",
     "name": "stdout",
     "text": "\nScore (All): 0.65\n\nText (title): Parents reveal what led to dog attack before ‘hero’ Bridger Walker was mauled - NEWS.com.au\nScore (title): 0.0\n\nText (desc): Family reveals what happened moments before Bridger Walker was mauled saving his sister\nScore (desc): 0.0\n\nText (content): The parents of Bridger Walker, the boy who bravely saved his sister from being mauled by a dog, have revealed what happened just moments before the animal attacked.Overwhelmed by the love and support… [+2656 chars]\nScore (content): 0.65\n\n\nScore (All): 0.32916666666666666\n\nText (title): Ketut takes to social media to confirm he and Rhonda are still together - PerthNow\nScore (title): 0.03333333333333333\n\nText (desc): In what is basically the only good news to come out of 2020 Ketut has taken to social media to confirm he is still with Rhonda!\nScore (desc): 0.2472222222222222\n\nText (content): Just as we were about to throw 2020 in a bin fire never to be remembered a good news story comes along to prove all is not lost.\nIn a mystery that has plagued us for more than eight years insurance … [+1740 chars]\nScore (content): 0.6\n\n\nScore (All): 0.45909090909090905\n\nText (title): Jacinda Ardern joins TikTok impersonator for hilarious parody video - 9Honey\nScore (title): 0.5\n\nText (desc): \nScore (desc): 0.0\n\nText (content): Jacinda Ardern has teamed up with erm, herself, for her hilarious debut on video platform TikTok.\nThe Prime Minister of New Zealand is beloved for her personality as well as her policies, so it shou… [+2143 chars]\nScore (content): 0.4454545454545455\n\n\nScore (All): 0.22166666666666668\n\nText (title): The first secret royal wedding in 235 years: What we know about Princess Beatrice’s wedding. - Mamamia\nScore (title): -0.07500000000000001\n\nText (desc): Princess Beatrice wedding venue: On 17 July, Princess Beatrice married Edoardo Mapelli Mozzi in an intimate ceremony. Here's everything detail we know.\nScore (desc): 0.225\n\nText (content): During the knighting ceremony, the Queen shared, \"My granddaughter got married this morning. Both Philip and I managed to get there - very nice.\"\nAs the coronavirus pandemic continues, The Queen, 94… [+1683 chars]\nScore (content): 0.515\n\n\nScore (All): 0.3333333333333333\n\nText (title): Meghan Markle's stunning assessment of Ivanka Trump revealed - Daily Express\nScore (title): 0.25\n\nText (desc): MEGHAN MARKLE revealed her dreams of being more like Ivanka Trump and enamoured admiration for US President Donald Trump's daughter, in unearthed accounts.\nScore (desc): 0.5\n\n\nScore (All): 0.225\n\nText (title): The fashion statement we didn't want might become the symbol we need - Sydney Morning Herald\nScore (title): 0.0\n\nText (desc): The mask has become synonymous with the pandemic – a visual representation for a virus that is invisible to the human eye – and health experts say it's set to remain a normal part of daily life.\nScore (desc): 0.0375\n\nText (content): Burrows began selling silk masks two months ago, which she says are made with the help of an experienced mask manufacturer in China.\n\"You want to wear something thats comfortable. Theyre not effecti… [+6052 chars]\nScore (content): 0.6000000000000001\n\n\nScore (All): 0.4916666666666667\n\nText (title): \"I get the irony.\" Chris Sebastian on stepping out of Guy's shadow by going on The Voice. - Mamamia\nScore (title): 0.0\n\nText (desc): Chris Sebastian The Voice: The irony of carving out his own identity on the show his  brother Guy Sebastian is a coach on is not lost on Chris Sebastian.\nScore (desc): 0.6\n\nText (content): \"It put this reignited fire in my belly, I can't resign myself to the fact that I'm going to sing other people's songs. I want to do this, and I can do this, and The Voice is the best way to make tha… [+1422 chars]\nScore (content): 0.4375\n\n\nScore (All): 0.2856902356902357\n\nText (title): 3 things to watch this weekend: 13 Reasons Why's Katherine Langford stars in a new fantasy series - Nine\nScore (title): 0.13636363636363635\n\nText (desc): Plus more great things to watch this weekend.\nScore (desc): 0.65\n\nText (content): Wherever you are in the country this weekend, we hope you stay safe, particularly those of you in Victoria. To help you get through this tough time, here are three shows that should keep you entertai… [+2939 chars]\nScore (content): 0.09259259259259257\n\n\nScore (All): 0.39999999999999997\n\nText (title): Henry Cavill flexes his PC-building muscles in sexy Instagram vid - Techradar Australia\nScore (title): 0.5\n\nText (desc): Toss a CPU to your Witcher\nScore (desc): 0.0\n\nText (content): Along with his on-screen heroics as both Superman and The Witcher, impossibly handsome actor Henry Cavill is also considered a hero among gamers the world over, thanks to his unabashed enthusiasm for… [+4205 chars]\nScore (content): 0.35\n\n\nScore (All): -0.16666666666666666\n\nText (title): Jools Oliver opens up about fifth miscarriage and longing for a sixth child - Essential Baby\nScore (title): 0.0\n\nText (desc): \"It's a terrible thing to keep wanting something and you can't help it.\"\nScore (desc): -1.0\n\nText (content): Image/Instagram \nJools Oliver, wife of celebrity chef Jamie Oliver, has opened up about experiencing her fifth miscarriage and the pain of longing for more children.\nAppearing on the Podcast Made B… [+2469 chars]\nScore (content): 0.5\n\n\nScore (All): 0.34285714285714286\n\nText (title): AAMI hilariously confirms that Rhonda and Ketut from the iconic adverts are 'STILL TOGETHER' - Daily Mail\nScore (title): 0.3333333333333333\n\nText (desc): Everyone remembers the iconic AAMI adverts that began in 2012 featuring star-crossed lovers Rhonda and Ketut.\nScore (desc): 0.5\n\nText (content): Everyone remembers the iconic AAMI adverts that began in 2012 featuring star-crossed lovers Rhonda and Ketut.\nAnd the insurance company confirmed this week that the fictional couple 'are still toget… [+2282 chars]\nScore (content): 0.3\n\n\nScore (All): 0.7\n\nText (title): Ellen DeGeneres and Portia de Rossi mourn the loss of their beloved dog Wolf - 9TheFIX\nScore (title): 0.7\n\nText (desc): \nScore (desc): 0.0\n\nText (content): Ellen DeGeneres is mourning the loss of her and wife Portia de Rossi's dog, Wolf.\nThe talk-show host shared her heartbreak with her 91 million Instagram followers on July 17 (US time) as she farewel… [+1424 chars]\nScore (content): 0.0\n\n\nScore (All): 0.4666666666666666\n\nText (title): Naya Rivera: Incredible tribute to Glee star’s son as autopsy results revealed - Herald Sun\nScore (title): 0.9\n\nText (desc): Subscribe to the Herald Sun to get unrestricted digital access, home paper delivery, Foxsports.com.au subscription,  Apps for iPad and Android and much more...\nScore (desc): 0.25\n\n\nScore (All): 0.36727272727272725\n\nText (title): Eliza Scanlen in the spotlight again in a 'delightfully bent love story' - Sydney Morning Herald\nScore (title): 0.75\n\nText (desc): After the Mukbang drama, the rising actress stars in new Australian film Babyteeth.\nScore (desc): 0.06818181818181818\n\nText (content): While the parents argue about whether to call the police, Milla wants Moses to stay for breakfast.\n\"I was dreaming about you when you came in,\" she says to him.\nFor the parents, the problem is appa… [+7535 chars]\nScore (content): 0.2\n\n"
    }
   ],
   "source": [
    "\n",
    "print_seperate_scores(response3, 0.5)"
   ]
  },
  {
   "cell_type": "code",
   "execution_count": 56,
   "metadata": {},
   "outputs": [],
   "source": [
    "url4 = ('http://newsapi.org/v2/top-headlines?'\n",
    "       'country=au&'\n",
    "       'from=2020-07-18&'\n",
    "       'category=general&'\n",
    "       'pageSize=100&'\n",
    "       'sortBy=popularity&'\n",
    "       'apiKey=7cbc46d369ec49efba7d4e1bd3df8b1a')\n",
    "\n",
    "response4 = requests.get(url4)"
   ]
  },
  {
   "cell_type": "code",
   "execution_count": 57,
   "metadata": {
    "tags": []
   },
   "outputs": [
    {
     "output_type": "stream",
     "name": "stdout",
     "text": "\nScore (All): 0.65\n\nText (title): Parents reveal what led to dog attack before ‘hero’ Bridger Walker was mauled - NEWS.com.au\nScore (title): 0.0\n\nText (desc): Family reveals what happened moments before Bridger Walker was mauled saving his sister\nScore (desc): 0.0\n\nText (content): The parents of Bridger Walker, the boy who bravely saved his sister from being mauled by a dog, have revealed what happened just moments before the animal attacked.Overwhelmed by the love and support… [+2656 chars]\nScore (content): 0.65\n\n\nScore (All): 0.2333333333333333\n\nText (title): Cash rate on hold until 2022? Buy these ASX dividend shares - Motley Fool Australia\nScore (title): 0.6\n\nText (desc): Westpac Banking Corp (ASX: WBC) expects the cash rate to stay on hold until 2022. These ASX dividend shares will help you beat low rates...\nScore (desc): 0.0\n\nText (content): According to the latest economic report by Westpac Banking Corp(ASX: WBC), it continues to forecast the cash rate staying on hold at 0.25% until at least the start of 2022.\nIn light of this, it look… [+2576 chars]\nScore (content): 0.2\n\n\nScore (All): 0.5072727272727272\n\nText (title): 3 five-star ASX shares to buy - Motley Fool Australia\nScore (title): 0.6\n\nText (desc): Here's why I rate Afterpay Ltd (ASX:APT) and these ASX shares as five-star stocks to buy...\nScore (desc): 0.0\n\nText (content): If you’re looking for some new additions to your portfolio in July, then I think the three ASX shares listed below would be great options.\nI feel they are among the best on offer on the Australian s… [+2597 chars]\nScore (content): 0.4840909090909091\n\n\nScore (All): 0.3071428571428572\n\nText (title): Five planets and a crescent moon to line up in a spectacular pre-dawn sky on 20 July- Technology News, Firstpost - Best gaming pro\nScore (title): 0.8\n\nText (desc): FP TrendingJul 17, 2020 16:57:03 IST On 19 July, individuals world over will be capable of see 5 planets – Mercury, Venus, Mars, Jupiter and Saturn – with out the necessity for a telescope. Other than the bizarre sighting of 5 planets within the night time sk…\nScore (desc): 0.15833333333333335\n\nText (content): FP TrendingJul 17, 2020 16:57:03 IST\nOn 19 July, individuals world over will be capable of see 5 planets Mercury, Venus, Mars, Jupiter and Saturn with out the necessity for a telescope. Other than t… [+2181 chars]\nScore (content): 0.037500000000000006\n\n\nScore (All): 0.3333333333333333\n\nText (title): Bacteria that eats metal accidentally discovered by scientists in the US - 7NEWS.com.au\nScore (title): 0.0\n\nText (desc): Researchers made the bizarre discovery after performing a completely unrelated experiment.\nScore (desc): 0.25\n\nText (content): Scientists have discovered a type of bacteria that eats and gets its calories from metal, after suspecting they exist for more than a hundred years but never proving it.\nMicrobiologists from the Cal… [+2816 chars]\nScore (content): 0.5\n\n"
    }
   ],
   "source": [
    "print_seperate_scores(response4, 0.5)"
   ]
  },
  {
   "cell_type": "code",
   "execution_count": 64,
   "metadata": {},
   "outputs": [],
   "source": [
    "url5 = ('http://newsapi.org/v2/everything?'\n",
    "       'q=leisure&'\n",
    "       'from=2020-07-18&'\n",
    "       'pageSize=100&'\n",
    "       'sortBy=popularity&'\n",
    "       'apiKey=7cbc46d369ec49efba7d4e1bd3df8b1a')\n",
    "\n",
    "response5 = requests.get(url5)"
   ]
  },
  {
   "cell_type": "code",
   "execution_count": 65,
   "metadata": {
    "tags": []
   },
   "outputs": [
    {
     "output_type": "stream",
     "name": "stdout",
     "text": "\nScore (All): 0.22222222222222224\n\nText (title): The best electric scooters, according to experts\nScore (title): 1.0\n\nText (desc): It’s like regular scooting, only easier.\nScore (desc): 0.0\n\nText (content): At a time when public transportation has never been less appealing, people are trying to get their hands on anything that can get them from point A to point B. That means bikes, rollerblades, and ele… [+8880 chars]\nScore (content): 0.11111111111111112\n\n\nScore (All): 0.21477272727272725\n\nText (title): How many coronavirus cases are in the UK - and where are they?\nScore (title): 0.5\n\nText (desc): Since the first Covid-19 cases were detected in York, the disease has now spread across the UK - find out how many cases are in your area\nScore (desc): 0.375\n\nText (content): What does that mean for the UK?\nOn March 23, Boris Johnson placed the UK on a police-enforced lockdown with drastic new measures in the fight against the coronavirus outbreak.\nThe Prime Minister or… [+1862 chars]\nScore (content): -0.08806818181818182\n\n\nScore (All): 0.40397727272727274\n\nText (title): TBB Weekly Brick Report: LEGO news roundup for July 18, 2020\nScore (title): 0.0\n\nText (desc): In this week's Brick Report we reviewed the new Minions set, learned to build Miniland superheroes, saw the reveal of an incredible NES model and played a round of \"What's that Element?\" and more! PLUS: TBB is recruiting new writers! \nThe post TBB Weekly Bric…\nScore (desc): 0.32636363636363636\n\nText (content): In addition to the amazing LEGO models created by builders all over the world, The Brothers Brick brings you the best of LEGO news and reviews. This is our weekly Brick Report for the third week of J… [+1720 chars]\nScore (content): 0.5333333333333333\n\n\nScore (All): 0.5285714285714286\n\nText (title): 10 brilliant bite-sized cycles in Ireland - from forest parks to mountain bike trails\nScore (title): 0.9\n\nText (desc): As part of our summer cycling special, Ciaran Lennon recommends 10 bite-sized cycles in Ireland.\nScore (desc): 0.35714285714285715\n\nText (content): As part of our summer cycling special, Ciaran Lennon recommends 10 bite-sized cycles in Ireland.\n1. Ballyhoura Mountain Bike Park\nArdpatrick, Co limerick \nOkay so the largest trail network in Irel… [+5127 chars]\nScore (content): 0.4285714285714286\n\n\nScore (All): 0.26161616161616164\n\nText (title): 10 best cycling routes in Ireland - from glorious greenways to coastal spins\nScore (title): 1.0\n\nText (desc): In years to come when we are watching the inevitable Reeling in the Years review of 2020, one of the positive storylines that may feature from these strange days is how our love affair with the bicycle has been re-ignited.\nScore (desc): 0.1693181818181818\n\nText (content): In years to come when we are watching the inevitable Reeling in the Years review of 2020, one of the positive storylines that may feature from these strange days is how our love affair with the bicyc… [+37237 chars]\nScore (content): 0.1693181818181818\n\n\nScore (All): 0.26161616161616164\n\nText (title): 10 best cycling routes in Ireland - from glorious greenways to coastal spins\nScore (title): 1.0\n\nText (desc): In years to come when we are watching the inevitable Reeling in the Years review of 2020, one of the positive storylines that may feature from these strange days is how our love affair with the bicycle has been re-ignited.\nScore (desc): 0.1693181818181818\n\nText (content): In years to come when we are watching the inevitable Reeling in the Years review of 2020, one of the positive storylines that may feature from these strange days is how our love affair with the bicyc… [+37237 chars]\nScore (content): 0.1693181818181818\n\n\nScore (All): 0.29375\n\nText (title): Is it worth buying a home on a holiday park?\nScore (title): 0.3\n\nText (desc): The phones started ringing in June and they haven't stopped. Homeowners at Britain's top holiday parks are seeing bookings hit record levels this summer as the pandemic has led to curbs on foreign travel.\nScore (desc): 0.1875\n\nText (content): The phones started ringing in June and they haven't stopped. Homeowners at Britain's top holiday parks are seeing bookings hit record levels this summer.\n'I could have rented our lodge three times o… [+3115 chars]\nScore (content): 0.5\n\n\nScore (All): 0.2875\n\nText (title): S&P 500 Weekly Update: The Bull Market Stalls At Overhead Resistance\nScore (title): 0.0\n\nText (desc): It’s all about technicals now as the market responds to support and struggles at resistance. Economics data continues to improve with more reports indicating expansion.\nScore (desc): 0.5\n\nText (content): \"We have met the enemy and he is us.\" - Pogo\nIt has been a long time since investors have seen distractions and the mental challenges that we have experienced in just seven months in 2020. Making th… [+32801 chars]\nScore (content): 0.21666666666666667\n\n\nScore (All): 0.600865800865801\n\nText (title): Top 10 Best Aerolatte Frothers 2020 - Best gaming pro\nScore (title): 0.8333333333333334\n\nText (desc): 1. PowerLix Milk Frother Handheld Battery Operated Electric Foam Maker For Coffee, Latte, Cappuccino Battery operated for excellent froth very quickly: the mixer is battery powered so you do not have to fret about cords and discovering sockets. warmth up the …\nScore (desc): 0.7166666666666667\n\nText (content): Animal Crossing: New Horizons is a bonafide marvel. The sport has been setting new records for Nintendo, is adored by gamers and critics alike and gives tens of millions of gamers a peaceable escape … [+2000 chars]\nScore (content): 0.13636363636363635\n\n"
    }
   ],
   "source": [
    "print_seperate_scores(response5, 0.5)"
   ]
  },
  {
   "cell_type": "code",
   "execution_count": 1,
   "metadata": {
    "tags": []
   },
   "outputs": [
    {
     "output_type": "stream",
     "name": "stdout",
     "text": "Hi\n"
    }
   ],
   "source": [
    "print(\"Hi\")"
   ]
  },
  {
   "cell_type": "code",
   "execution_count": null,
   "metadata": {},
   "outputs": [],
   "source": []
  }
 ],
 "metadata": {
  "language_info": {
   "codemirror_mode": {
    "name": "ipython",
    "version": 3
   },
   "file_extension": ".py",
   "mimetype": "text/x-python",
   "name": "python",
   "nbconvert_exporter": "python",
   "pygments_lexer": "ipython3",
   "version": 3
  },
  "orig_nbformat": 2,
  "kernelspec": {
   "name": "python_defaultSpec_1595084289287",
   "display_name": "Python 3.7.3 64-bit"
  }
 },
 "nbformat": 4,
 "nbformat_minor": 2
}